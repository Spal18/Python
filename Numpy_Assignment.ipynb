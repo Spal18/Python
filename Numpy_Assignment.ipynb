{
  "nbformat": 4,
  "nbformat_minor": 0,
  "metadata": {
    "colab": {
      "provenance": [],
      "authorship_tag": "ABX9TyPF3ecOvMMgLzo9Gs5LZh/2",
      "include_colab_link": true
    },
    "kernelspec": {
      "name": "python3",
      "display_name": "Python 3"
    },
    "language_info": {
      "name": "python"
    }
  },
  "cells": [
    {
      "cell_type": "markdown",
      "metadata": {
        "id": "view-in-github",
        "colab_type": "text"
      },
      "source": [
        "<a href=\"https://colab.research.google.com/github/Spal18/Python/blob/main/Numpy_Assignment.ipynb\" target=\"_parent\"><img src=\"https://colab.research.google.com/assets/colab-badge.svg\" alt=\"Open In Colab\"/></a>"
      ]
    },
    {
      "cell_type": "markdown",
      "source": [
        "# ***Theory Questions***"
      ],
      "metadata": {
        "id": "uE8NqRqSlUE8"
      }
    },
    {
      "cell_type": "code",
      "execution_count": null,
      "metadata": {
        "id": "rkNt7mCTkqD5"
      },
      "outputs": [],
      "source": [
        "#1. Explain the purpose and advantages of NumPy in scientific computing and data analysis. How does it enhance Python's capabilities for numerical operations?\n",
        "#Numpy-Numerical python-As a python library\n",
        "#Numpy data is stored as a form of array- Array stores homogeneous data in continous memory location- Which makes it faster\n",
        "#Numpy Computation is very fast-It is built using C(fastest programming language)\n",
        "#NumPy can handle advanced mathematical operations like matrix multiplication\n",
        "#NumPy enhances Python's role in data science by providing efficient multidimensional arrays for mathematical operations."
      ]
    },
    {
      "cell_type": "code",
      "source": [
        "#2. Compare and contrast np.mean() and np.average() functions in NumPy. When would you use one over the other?\n",
        "#np.mean()- Use to calculate arithmetic mean- All elements have equal weight/axis- Weight cannot be passed trough the parameter of the given function.\n",
        "\n",
        "import numpy as np\n",
        "arr = np.array([1,2,3,4,5])\n",
        "print(np.mean(arr))\n",
        "\n",
        "#np.average()- Use to calculate arithmetic mean with weighted average- All elements may or may not have equal weight- Weight can be passed through the parameter of the given function.\n",
        "\n",
        "import numpy as np\n",
        "arr = np.array([1,2,3,4,5])\n",
        "wei = np.array([5,10,2,3,9])\n",
        "print(np.average(arr,weights=wei))\n"
      ],
      "metadata": {
        "id": "-kvQw1Dcqcw0",
        "colab": {
          "base_uri": "https://localhost:8080/"
        },
        "outputId": "35780ad1-a843-4b89-af9c-85d430e5c856"
      },
      "execution_count": null,
      "outputs": [
        {
          "output_type": "stream",
          "name": "stdout",
          "text": [
            "3.0\n",
            "3.0344827586206895\n"
          ]
        }
      ]
    },
    {
      "cell_type": "code",
      "source": [
        "#3. Describe the methods for reversing a NumPy array along different axes. Provide examples for 1D and 2D arrays.\n",
        "#Ans. 1D array\n",
        "import numpy as np\n",
        "arr = np.array([1, 2, 3, 4, 5, 6, 7, 8])\n",
        "res = np.flip(arr)\n",
        "print(res)\n",
        "\n",
        "# 2D arrays\n",
        "arr1 = np.array(([1,2,3,4],[5,6,7,8]))\n",
        "res1 = np.flip(arr1)\n",
        "print(res1)\n"
      ],
      "metadata": {
        "id": "j6dg3oKpqdB-",
        "colab": {
          "base_uri": "https://localhost:8080/"
        },
        "outputId": "80ef8e39-f25b-4786-c147-56d98da22e58"
      },
      "execution_count": null,
      "outputs": [
        {
          "output_type": "stream",
          "name": "stdout",
          "text": [
            "[8 7 6 5 4 3 2 1]\n",
            "[[8 7 6 5]\n",
            " [4 3 2 1]]\n"
          ]
        }
      ]
    },
    {
      "cell_type": "code",
      "source": [
        "#4. How can you determine the data type of elements in a NumPy array? Discuss the importance of data types in memory management and performance.\n",
        "#Ans. In NumPy, we can determine the data type of elements in a NumPy array using the dtype attribute.\n",
        "#NumPy offers several data types, including  integer types, floating-point types, and complex number types\n",
        "#they help ensure that programs use memory efficiently and perform correctly by Memory allocation, Code reliability, Program accuracy, Program speed\n",
        "import numpy as np\n",
        "\n",
        "arr = np.array([1, 2, 3, 4, 5,6,7,8,9,10])\n",
        "print(arr.dtype)\n",
        "\n",
        "arr1 = np.array([1.5,2.5,3.6,2.8])\n",
        "print(arr1.dtype)\n"
      ],
      "metadata": {
        "colab": {
          "base_uri": "https://localhost:8080/"
        },
        "id": "WcGTcCL0JjU1",
        "outputId": "1b6ebca1-ec00-4c9e-80de-46442eb063e9"
      },
      "execution_count": null,
      "outputs": [
        {
          "output_type": "stream",
          "name": "stdout",
          "text": [
            "int64\n",
            "float64\n"
          ]
        }
      ]
    },
    {
      "cell_type": "code",
      "source": [
        "#5. Define ndarrays in NumPy and explain their key features. How do they differ from standard Python lists?\n",
        "\"\"\"Ans.Key Features of NumPy ndarrays:\n",
        "#1.Homogeneous Data Type: All elements in an ndarray must have the same data type.\n",
        "#2. N-Dimensional:ndarrays can have multiple dimension.\n",
        "#3.Efficient Operations: NumPy supports vectorized operations, which means operations are applied element-wise, leading to faster execution compared to loops in standard Python lists.\n",
        "#4.Broadcasting:This feature allows NumPy to perform operations on arrays of different shapes by automatically expanding them to a common shape.\n",
        "#5.Memory Efficiency: ndarrays are stored in contiguous blocks of memory, which enhances performance for large datasets.\n",
        "#6.Rich Functionality: NumPy provides numerous functions for array creation, manipulation, and mathematical operations, such as np.zeros, np.ones, np.full, np.empty, np.arange, and np.linspace.\n",
        "\n",
        "#Differences from Standard Python Lists:\n",
        "#1.Data Type Consistency: Python lists can contain elements of different data types, whereas ndarrays require all elements to be of the same type.\n",
        "#2.Performance: ndarrays are generally faster and more memory-efficient than Python lists, especially for large datasets and numerical operations.\n",
        "#3.Dimensionality: While Python lists can be nested to create multi-dimensional structures, ndarrays are inherently multi-dimensional and provide more efficient and intuitive ways to handle such data.\n",
        "#4.Functionality: NumPy offers a wide range of built-in functions for mathematical and statistical operations, which are not available for standard Python lists.\"\"\"\n"
      ],
      "metadata": {
        "id": "PNWbe64fJjYO"
      },
      "execution_count": null,
      "outputs": []
    },
    {
      "cell_type": "code",
      "source": [
        "#6. Analyze the performance benefits of NumPy arrays over Python lists for large-scale numerical operations.\n",
        "#Ans.NumPy arrays offer several performance benefits over Python lists, especially for large-scale numerical operations.\n",
        "#like: Memory Efficiency,Speed,Functionality,Multidimensional data,widely supported and compatible.\n",
        "\"Creating array object\"\n",
        "arr = np.array([[1, 2, 3],\n",
        "                [4, 2, 5]])\n",
        "\n",
        "print(\"Array is of type: \", type(arr))\n",
        "print(\"No. of dimensions: \", arr.ndim)\n",
        "print(\"Shape of array: \", arr.shape)\n",
        "print(\"Array stores elements of type: \", arr.dtype)"
      ],
      "metadata": {
        "colab": {
          "base_uri": "https://localhost:8080/"
        },
        "id": "DKps6PAUJjog",
        "outputId": "3173693d-8b2b-4b59-84ff-770de2e038a2"
      },
      "execution_count": null,
      "outputs": [
        {
          "output_type": "stream",
          "name": "stdout",
          "text": [
            "Array is of type:  <class 'numpy.ndarray'>\n",
            "No. of dimensions:  2\n",
            "Shape of array:  (2, 3)\n",
            "Array stores elements of type:  int64\n"
          ]
        }
      ]
    },
    {
      "cell_type": "code",
      "source": [
        "#7. Compare vstack() and hstack() functions in NumPy. Provide examples demonstrating their usage and output.\n",
        "# Ans.vstack()\n",
        "#Purpose: Stacks arrays vertically (row-wise).\n",
        "#Usage:Useful when you want to add rows to an existing array.\n",
        "a=np.array([[1,2,3],[4,5,6]])\n",
        "b=np.array([[7,8,9],[10,11,12]])\n",
        "np.vstack((a,b))\n",
        "print(np.vstack((a,b)))\n",
        "\n",
        "#hstack()\n",
        "#Purpose:Stacks arrays horizontally (column-wise).\n",
        "#Usage: Useful when you want to add columns to an existing array.\n",
        "a=np.array([[1,2,3],[4,5,6]])\n",
        "b=np.array([[7,8,9],[10,11,12]])\n",
        "np.hstack((a,b))\n",
        "print(np.hstack((a,b)))\n"
      ],
      "metadata": {
        "colab": {
          "base_uri": "https://localhost:8080/"
        },
        "id": "20oKCoCKJjsA",
        "outputId": "d3f9a83b-655e-47ae-b7a7-2874b4d2ac7c"
      },
      "execution_count": null,
      "outputs": [
        {
          "output_type": "stream",
          "name": "stdout",
          "text": [
            "[[ 1  2  3]\n",
            " [ 4  5  6]\n",
            " [ 7  8  9]\n",
            " [10 11 12]]\n",
            "[[ 1  2  3  7  8  9]\n",
            " [ 4  5  6 10 11 12]]\n"
          ]
        }
      ]
    },
    {
      "cell_type": "code",
      "source": [
        "#8. Explain the differences between fliplr() and flipud() methods in NumPy, including their effects on various array dimension.\n",
        "#Ans. fliplr()\n",
        "#Function: Flips the array left to right.\n",
        "#Axis: Operates along axis 1 (horizontal axis).\n",
        "#Effect on 2D Arrays: Reverses the order of columns while keeping the rows intact.\n",
        "a=np.array([[1,2,3],[4,5,6]])\n",
        "np.fliplr(a)\n",
        "print(np.fliplr(a))\n",
        "# flipud()\n",
        "#Function: Flips the array up-down.\n",
        "#Axis: Operates along axis 0 (vertical axis).\n",
        "#Effect on 2D Arrays: Reverses the order of rows while keeping the columns intact.\n",
        "a=np.array([[1,2,3],[4,5,6]])\n",
        "np.flipud(a)\n",
        "print(np.flipud(a))\n"
      ],
      "metadata": {
        "id": "t8dzBD8YqdFT",
        "colab": {
          "base_uri": "https://localhost:8080/"
        },
        "outputId": "efcfd92a-32fa-428b-e02b-e5b3553337eb"
      },
      "execution_count": null,
      "outputs": [
        {
          "output_type": "stream",
          "name": "stdout",
          "text": [
            "[[3 2 1]\n",
            " [6 5 4]]\n",
            "[[4 5 6]\n",
            " [1 2 3]]\n"
          ]
        }
      ]
    },
    {
      "cell_type": "code",
      "source": [
        "#9. Discuss the functionality of the array_split() method in NumPy. How does it handle uneven splits?\n",
        "#Ans.The array_split() method in NumPy is used to split an array into multiple sub-arrays. This function is particularly useful when you need to divide an array into parts that may not be of equal size.\n",
        "#Functionality\n",
        "#ary: The input array to be split.\n",
        "#indices_or_sections: If an integer, it indicates the number of equal or nearly equal sub-arrays to be created. If a list of sorted integers, it specifies the points at which the array is split.\n",
        "#axis: The axis along which to split the array. The default is 0 (along rows).\n",
        "\n",
        "#Handling Uneven Splits\n",
        "#When the array cannot be evenly divided by the specified number of splits, array_split() ensures that the resulting sub-arrays are as equal in size as possible. For example, if you have an array of length 9 and you want to split it into 4 parts, array_split() will create sub-arrays of sizes 3, 2, 2, and 2.\n",
        "import numpy as np\n",
        "\n",
        "arr = np.array([1, 2, 3, 4, 5, 6, 7, 8, 9])\n",
        "\n",
        "result = np.array_split(arr, 4)\n",
        "\n",
        "print(result)"
      ],
      "metadata": {
        "colab": {
          "base_uri": "https://localhost:8080/"
        },
        "id": "AqVrR9_leATe",
        "outputId": "9c689edd-ff30-4796-e62b-46637f3d8d1b"
      },
      "execution_count": null,
      "outputs": [
        {
          "output_type": "stream",
          "name": "stdout",
          "text": [
            "[array([1, 2, 3]), array([4, 5]), array([6, 7]), array([8, 9])]\n"
          ]
        }
      ]
    },
    {
      "cell_type": "code",
      "source": [
        "#10. Explain the concepts of vectorization and broadcasting in NumPy. How do they contribute to efficient array operations?\n",
        "'''Numpy arrays are homogeneous in nature means it is an array that contains data of a single type only.\n",
        "-Through vectorization and Broadcasting,we can perform mathematical operations on arrays of different shapes/dimensions.\n",
        "--Broadcasting for expand a smaller shape array and vectorization is for fastest calculations.\n",
        "--The concept of vectorized operations on NumPy allows the use of more optimal and pre-compiled functions and mathematical operations on NumPy array objects and data sequences.\n",
        "-The Output and Operations will speed up when compared to simple non-vectorized operations.'''\n",
        "#Python’s lists and tuples are unrestricted in the type of data they contain.\n"
      ],
      "metadata": {
        "id": "5m2c10creAWE"
      },
      "execution_count": null,
      "outputs": []
    },
    {
      "cell_type": "markdown",
      "source": [
        "# ***Practical Questions***"
      ],
      "metadata": {
        "id": "ImINgESVegVM"
      }
    },
    {
      "cell_type": "code",
      "source": [
        "#1. Create a 3x3 NumPy array with random integers between 1 and 100. Then, interchange its rows and columns.\n",
        "# 3x3 Numpy array\n",
        "Arr = np.random.randint(1,100,(3,3))\n",
        "print(Arr)\n",
        "\n",
        "Arr1 = np.roll(Arr, 2)\n",
        "print(Arr1)\n"
      ],
      "metadata": {
        "colab": {
          "base_uri": "https://localhost:8080/"
        },
        "id": "nyu6g_nKeAY-",
        "outputId": "eb3d6caf-a265-4388-cee7-884329a5dc31"
      },
      "execution_count": null,
      "outputs": [
        {
          "output_type": "stream",
          "name": "stdout",
          "text": [
            "[[55 98 63]\n",
            " [73 61 59]\n",
            " [11  3 79]]\n",
            "[[ 3 79 55]\n",
            " [98 63 73]\n",
            " [61 59 11]]\n"
          ]
        }
      ]
    },
    {
      "cell_type": "code",
      "source": [
        "#2. Generate a 1D NumPy array with 10 elements. Reshape it into a 2x5 array, then into a 5x2 array.\n",
        "arr = np.array([1, 2, 3, 4, 5, 6, 7, 8, 9, 10])\n",
        "print(arr)\n",
        "\n",
        "arr1 = np.reshape(arr,(2,5))\n",
        "print(arr1)\n",
        "\n",
        "arr2 = np.reshape(arr1,(5,2))\n",
        "print(arr2)"
      ],
      "metadata": {
        "colab": {
          "base_uri": "https://localhost:8080/"
        },
        "id": "_UBWUO84eAch",
        "outputId": "2afe2a74-bd53-4471-dbc2-5053c6fea0ea"
      },
      "execution_count": null,
      "outputs": [
        {
          "output_type": "stream",
          "name": "stdout",
          "text": [
            "[ 1  2  3  4  5  6  7  8  9 10]\n",
            "[[ 1  2  3  4  5]\n",
            " [ 6  7  8  9 10]]\n",
            "[[ 1  2]\n",
            " [ 3  4]\n",
            " [ 5  6]\n",
            " [ 7  8]\n",
            " [ 9 10]]\n"
          ]
        }
      ]
    },
    {
      "cell_type": "code",
      "source": [
        "#3. Create a 4x4 NumPy array with random float values. Add a border of zeros around it, resulting in a 6x6 array.\n",
        "#Ans. 4x4 Numpy array\n",
        "Ar = np.random.rand(4,4)\n",
        "print(Ar)\n",
        "\n",
        "#border of Zeros\n",
        "Ar1 = np.pad(Ar,1)\n",
        "print(Ar1)\n",
        "\n",
        "#Shape of resulting array(Ar1)\n",
        "print(\"Shape of array -\", Ar1.shape)"
      ],
      "metadata": {
        "colab": {
          "base_uri": "https://localhost:8080/"
        },
        "id": "p1fc24o5eAuC",
        "outputId": "39964e96-769c-4b2d-ea01-f37d26c3ea56"
      },
      "execution_count": null,
      "outputs": [
        {
          "output_type": "stream",
          "name": "stdout",
          "text": [
            "[[0.24292627 0.39067649 0.32669195 0.82819674]\n",
            " [0.79367788 0.81025886 0.91741621 0.71869922]\n",
            " [0.17867121 0.5227685  0.87050506 0.17859079]\n",
            " [0.22137857 0.57706059 0.82079876 0.53643411]]\n",
            "[[0.         0.         0.         0.         0.         0.        ]\n",
            " [0.         0.24292627 0.39067649 0.32669195 0.82819674 0.        ]\n",
            " [0.         0.79367788 0.81025886 0.91741621 0.71869922 0.        ]\n",
            " [0.         0.17867121 0.5227685  0.87050506 0.17859079 0.        ]\n",
            " [0.         0.22137857 0.57706059 0.82079876 0.53643411 0.        ]\n",
            " [0.         0.         0.         0.         0.         0.        ]]\n",
            "Shape of array - (6, 6)\n"
          ]
        }
      ]
    },
    {
      "cell_type": "code",
      "source": [
        "#4. Using NumPy, create an array of integers from 10 to 60 with a step of 5.\n",
        "#Ans. array between 10 & 60\n",
        "Array = np.arange(10,60,(5))\n",
        "Array"
      ],
      "metadata": {
        "colab": {
          "base_uri": "https://localhost:8080/"
        },
        "id": "D3jNAgaKpJLR",
        "outputId": "97ff7c25-b1c3-44b1-ea11-f88347098a98"
      },
      "execution_count": null,
      "outputs": [
        {
          "output_type": "execute_result",
          "data": {
            "text/plain": [
              "array([10, 15, 20, 25, 30, 35, 40, 45, 50, 55])"
            ]
          },
          "metadata": {},
          "execution_count": 13
        }
      ]
    },
    {
      "cell_type": "code",
      "source": [
        "#5. Create a NumPy array of strings ['python', 'numpy', 'pandas']. Apply different case transformations (uppercase, lowercase, title case, etc.) to each element.\n",
        "# Creating a NumPy array containing strings\n",
        "Arr = np.array(['Python', 'Numpy','Pandas'])\n",
        "print(\"Main Array:\",Arr)\n",
        "\n",
        "# Converting all characters to lowercase\n",
        "lowered_case = np.char.lower(Arr)\n",
        "print(\"Lowered: \", lowered_case)\n",
        "\n",
        "# Converting all characters to uppercase\n",
        "uppered_case = np.char.upper(Arr)\n",
        "print(\"Uppered: \", uppered_case)\n",
        "\n",
        "# Swapping the case of characters (lowercase to uppercase and vice versa)\n",
        "swapcased_case = np.char.swapcase(Arr)\n",
        "print(\"Swapcased: \", swapcased_case)\n",
        "\n",
        "# Capitalizing the first character of each word in the string\n",
        "titlecased_case = np.char.title(Arr)\n",
        "print(\"Titlecased: \", titlecased_case)\n"
      ],
      "metadata": {
        "colab": {
          "base_uri": "https://localhost:8080/"
        },
        "id": "pd7DZtjRpJb3",
        "outputId": "85e53a52-759c-40dc-b361-f46586e02118"
      },
      "execution_count": null,
      "outputs": [
        {
          "output_type": "stream",
          "name": "stdout",
          "text": [
            "Main Array: ['Python' 'Numpy' 'Pandas']\n",
            "Lowered:  ['python' 'numpy' 'pandas']\n",
            "Uppered:  ['PYTHON' 'NUMPY' 'PANDAS']\n",
            "Swapcased:  ['pYTHON' 'nUMPY' 'pANDAS']\n",
            "Titlecased:  ['Python' 'Numpy' 'Pandas']\n"
          ]
        }
      ]
    },
    {
      "cell_type": "code",
      "source": [
        "#6. Generate a NumPy array of words. Insert a space between each character of every word in the array.\n",
        "#Array of words >> String array\n",
        "Arr = np.array(['Python','Numpy','Pandas',\"Seaborn\",\"Plotly\"])\n",
        "print(Arr)\n",
        "\n",
        "#to insert space in words\n",
        "Arr11 = np.char.join(\" \", Arr)\n",
        "print(Arr11)"
      ],
      "metadata": {
        "colab": {
          "base_uri": "https://localhost:8080/"
        },
        "id": "y4sZZ3_cpJej",
        "outputId": "1c55a390-3247-4eca-aca3-153728d8f9a4"
      },
      "execution_count": null,
      "outputs": [
        {
          "output_type": "stream",
          "name": "stdout",
          "text": [
            "['Python' 'Numpy' 'Pandas' 'Seaborn' 'Plotly']\n",
            "['P y t h o n' 'N u m p y' 'P a n d a s' 'S e a b o r n' 'P l o t l y']\n"
          ]
        }
      ]
    },
    {
      "cell_type": "code",
      "source": [
        "#7. Create two 2D NumPy arrays and perform element-wise addition, subtraction, multiplication, and division.\n",
        "X = np.random.randint(1,5,(3,3))\n",
        "Y = np.random.randint(1,5,(3,3))\n",
        "print(\"X:\",X)\n",
        "print(\"Y:\",Y)\n",
        "\n",
        "#addition\n",
        "A = np.add(X,Y)\n",
        "print(\"Add:\",A)\n",
        "\n",
        "#subtraction\n",
        "B = np.subtract(X,Y)\n",
        "print(\"Subtract:\",B)\n",
        "\n",
        "#multiplication\n",
        "C = np.multiply(X,Y)\n",
        "print(\"Multiply:\",C)\n",
        "\n",
        "#Division\n",
        "D = np.divide(X,Y)\n",
        "print(\"Divide:\",D)"
      ],
      "metadata": {
        "colab": {
          "base_uri": "https://localhost:8080/"
        },
        "id": "55at5COrpJhO",
        "outputId": "3d77a463-6000-4802-8b44-79250b40cc96"
      },
      "execution_count": null,
      "outputs": [
        {
          "output_type": "stream",
          "name": "stdout",
          "text": [
            "X: [[4 3 2]\n",
            " [2 1 4]\n",
            " [4 3 1]]\n",
            "Y: [[4 2 3]\n",
            " [1 3 4]\n",
            " [4 2 1]]\n",
            "Add: [[8 5 5]\n",
            " [3 4 8]\n",
            " [8 5 2]]\n",
            "Subtract: [[ 0  1 -1]\n",
            " [ 1 -2  0]\n",
            " [ 0  1  0]]\n",
            "Multiply: [[16  6  6]\n",
            " [ 2  3 16]\n",
            " [16  6  1]]\n",
            "Divide: [[1.         1.5        0.66666667]\n",
            " [2.         0.33333333 1.        ]\n",
            " [1.         1.5        1.        ]]\n"
          ]
        }
      ]
    },
    {
      "cell_type": "code",
      "source": [
        "#8. Use NumPy to create a 5x5 identity matrix, then extract its diagonal elements.\n",
        "# Creating a diagonal matrix with diagonal elements 1, 2, 3, 4, 5 using np.diag()\n",
        "Mat = np.diag([1, 2, 3, 4, 5])\n",
        "\n",
        "# Printing the diagonal matrix 'x'\n",
        "print(Mat)\n"
      ],
      "metadata": {
        "colab": {
          "base_uri": "https://localhost:8080/"
        },
        "id": "HLvmvSpOpJkx",
        "outputId": "4549357f-831a-40eb-a6cd-34c9e632eaa9"
      },
      "execution_count": null,
      "outputs": [
        {
          "output_type": "stream",
          "name": "stdout",
          "text": [
            "[[1 0 0 0 0]\n",
            " [0 2 0 0 0]\n",
            " [0 0 3 0 0]\n",
            " [0 0 0 4 0]\n",
            " [0 0 0 0 5]]\n"
          ]
        }
      ]
    },
    {
      "cell_type": "code",
      "source": [
        "#9. Generate a NumPy array of 100 random integers between 0 and 1000. Find and display all prime numbers in this array\n",
        "import numpy as np\n",
        "import math\n",
        "A = np.random.randint(0,1000,(10,10))\n",
        "print(\"Main array:\",A)\n",
        "def is_prime(n):\n",
        "    if n % 2 == 0 and n > 2:\n",
        "        return False\n",
        "    return all(n % i for i in range(3, int(math.sqrt(n)) + 1, 2))\n",
        "B = np.vectorize(is_prime)\n",
        "C = B(A)\n",
        "primes = np.extract(C, A)\n",
        "primes"
      ],
      "metadata": {
        "colab": {
          "base_uri": "https://localhost:8080/"
        },
        "id": "Vy87wqs534oH",
        "outputId": "79a6be14-0d29-4330-9fac-5f20581c8971"
      },
      "execution_count": null,
      "outputs": [
        {
          "output_type": "stream",
          "name": "stdout",
          "text": [
            "Main array: [[820 306 436  32 846  73 963 615 458 512]\n",
            " [582 893 466 439 152 548 811  27 115 454]\n",
            " [630  65 138 346 661 241 711  50 154 623]\n",
            " [ 18  97 268 946 456 494 109 654  13 658]\n",
            " [719 526 281 291 237 759 243  78 533 851]\n",
            " [654 312 162 833 988 716 818 449 954  81]\n",
            " [291 349 204  45  46 734 833 150 805 122]\n",
            " [626  94  75 854   3 132 268 950 146 311]\n",
            " [791 715 955 140 664 797 494 147 468 956]\n",
            " [146 393 924  20 387 346 987 446 913 954]]\n"
          ]
        },
        {
          "output_type": "execute_result",
          "data": {
            "text/plain": [
              "array([ 73, 439, 811, 661, 241,  97, 109,  13, 719, 281, 449, 349,   3,\n",
              "       311, 797])"
            ]
          },
          "metadata": {},
          "execution_count": 20
        }
      ]
    },
    {
      "cell_type": "code",
      "source": [
        "#10. Create a NumPy array representing daily temperatures for a month. Calculate and display the weekly averages.\n",
        "import numpy as np\n",
        "\n",
        "#30 days temperature array\n",
        "temperatures = np.array([29, 29, 30, 27, 28, 29, 30, 31, 29, 28, 27, 26, 25, 24, 23, 22, 23, 24, 25, 26, 27, 28, 29, 30, 31, 32, 31, 30, 29, 28])\n",
        "\n",
        "# Reshape the array into a 2D array with rows representing weeks (assuming 5 weeks)\n",
        "weekly_temps = temperatures.reshape(5, 6)\n",
        "\n",
        "# Calculate the average temperature for each week\n",
        "weekly_averages = np.mean(weekly_temps, axis=1)\n",
        "\n",
        "# Display the weekly averages\n",
        "print(\"Weekly Average Temperatures:\")\n",
        "for i, avg in enumerate(weekly_averages):\n",
        "  print(f\"Week {i+1}: {avg:.2f}\")"
      ],
      "metadata": {
        "id": "hCzEYmx534rR",
        "colab": {
          "base_uri": "https://localhost:8080/"
        },
        "outputId": "cef1100e-72bb-4ebb-f09b-e11e99148cbe"
      },
      "execution_count": 1,
      "outputs": [
        {
          "output_type": "stream",
          "name": "stdout",
          "text": [
            "Weekly Average Temperatures:\n",
            "Week 1: 28.67\n",
            "Week 2: 28.50\n",
            "Week 3: 23.50\n",
            "Week 4: 27.50\n",
            "Week 5: 30.17\n"
          ]
        }
      ]
    }
  ]
}