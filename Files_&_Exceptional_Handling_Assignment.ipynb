{
  "nbformat": 4,
  "nbformat_minor": 0,
  "metadata": {
    "colab": {
      "provenance": [],
      "include_colab_link": true
    },
    "kernelspec": {
      "name": "python3",
      "display_name": "Python 3"
    },
    "language_info": {
      "name": "python"
    }
  },
  "cells": [
    {
      "cell_type": "markdown",
      "metadata": {
        "id": "view-in-github",
        "colab_type": "text"
      },
      "source": [
        "<a href=\"https://colab.research.google.com/github/Spal18/Python/blob/main/Files_%26_Exceptional_Handling_Assignment.ipynb\" target=\"_parent\"><img src=\"https://colab.research.google.com/assets/colab-badge.svg\" alt=\"Open In Colab\"/></a>"
      ]
    },
    {
      "cell_type": "code",
      "execution_count": null,
      "metadata": {
        "id": "F5D2Xusqll4J"
      },
      "outputs": [],
      "source": [
        "#1. Discuss the scenarios where multithreading is preferable to multiprocessing and scenarios where multiprocessing is a better choice.\n",
        "#Ans.Multithreading\n",
        "#I/O-Bound Tasks: Multithreading is ideal for tasks that spend a lot of time waiting for I/O operations, such as reading/writing files, network requests, or database queries. Since these tasks are often idle, multiple threads can run concurrently without significant performance hits.\n",
        "#Shared Memory: When tasks need to share data frequently, multithreading is beneficial because threads within the same process share the same memory space, making data sharing more efficient.\n",
        "#Lightweight Context Switching: Threads are lighter than processes, so switching between threads is faster and uses less memory. This is useful for applications that require frequent context switching.\n",
        "#GUI Applications: In applications with graphical user interfaces, multithreading can keep the interface responsive while performing background tasks.\n",
        "\n",
        "#Multiprocessing\n",
        "#CPU-Bound Tasks: Multiprocessing is better for tasks that require heavy computation, such as mathematical calculations, data processing, or machine learning. Each process can run on a separate CPU core, providing true parallelism.\n",
        "#Independent Processes: When tasks are independent and do not need to share data, multiprocessing is advantageous because each process runs in its own memory space, reducing the risk of data corruption.\n",
        "#Bypassing GIL: In languages like Python, the Global Interpreter Lock (GIL) can be a bottleneck for CPU-bound tasks. Multiprocessing can bypass the GIL by using separate memory spaces for each process.\n",
        "\n"
      ]
    },
    {
      "cell_type": "code",
      "source": [
        "#2. Describe what a process pool is and how it helps in managing multiple processes efficiently.\n",
        "#Ans. A process pool is a programming pattern used to manage a collection of worker processes efficiently. It is particularly useful in scenarios where you need to perform multiple tasks concurrently, especially for CPU-bound tasks.\n",
        "\n",
        "#Key Features of a Process Pool:\n",
        "#Fixed Number of Processes: A process pool maintains a fixed number of worker processes. This helps in controlling the system’s resource usage by limiting the number of processes that can run simultaneously.\n",
        "#Task Distribution: Tasks are distributed among the available worker processes. This ensures that all processes are utilized efficiently, reducing idle time.\n",
        "#Parallel Execution: By running tasks in parallel, a process pool can significantly speed up the execution of tasks that can be performed concurrently.\n",
        "#Automatic Management: The process pool automatically handles the creation, distribution, and termination of processes. This simplifies the code and reduces the overhead of manually managing processes.\n",
        "\n",
        "#Benefits of Using a Process Pool:\n",
        "\n",
        "#Improved Performance: By leveraging multiple CPU cores, a process pool can execute tasks faster than a single-threaded approach.\n",
        "#Resource Management: It helps in managing system resources more effectively by controlling the number of active processes.\n",
        "#Simplified Code: Using a process pool abstracts the complexity of process management, making the code easier to write and maintain.\n"
      ],
      "metadata": {
        "id": "rIjQhReUlvtX"
      },
      "execution_count": null,
      "outputs": []
    },
    {
      "cell_type": "code",
      "source": [
        "#3. Explain what multiprocessing is and why it is used in Python programs.\n",
        "#Ans.Multiprocessing in Python refers to the ability to run multiple processes simultaneously, leveraging multiple CPU cores to perform tasks concurrently. This is particularly useful for CPU-bound tasks, which require significant computational power.Multiprocessing in Python refers to the ability to run multiple processes simultaneously, leveraging multiple CPU cores to perform tasks concurrently. This is particularly useful for CPU-bound tasks, which require significant computational power.\n",
        "\n",
        "#Why Use Multiprocessing in Python\n",
        "#Bypassing the Global Interpreter Lock (GIL)\n",
        "#Improved Performance\n",
        "#Better Resource Utilization\n",
        "#Simplified Code\n",
        "#Parallelism\n",
        "\n",
        "import multiprocessing # imports the multiprocessing module\n",
        "\n",
        "def print_square(num):\n",
        "    \"\"\"Function to print square of a number\"\"\"\n",
        "    print(f\"Square: {num * num}\")\n",
        "\n",
        "def print_cube(num):\n",
        "    \"\"\"Function to print cube of a number\"\"\"\n",
        "    print(f\"Cube: {num * num * num}\")\n",
        "\n",
        "if __name__ == \"__main__\":\n",
        "    # Creating processes\n",
        "    p1 = multiprocessing.Process(target=print_square, args=(10,))\n",
        "    p2 = multiprocessing.Process(target=print_cube, args=(10,))\n",
        "\n",
        "    # Starting processes\n",
        "    p1.start()\n",
        "    p2.start()\n",
        "\n",
        "    # Wait until processes are finished\n",
        "    p1.join()\n",
        "    p2.join()\n",
        "\n",
        "    print(\"Done!\")\n",
        "\n",
        "\n",
        "\n"
      ],
      "metadata": {
        "colab": {
          "base_uri": "https://localhost:8080/"
        },
        "id": "fHkCl_j_lvwG",
        "outputId": "4c5f2163-2347-4dea-9285-0d849ad5b495"
      },
      "execution_count": null,
      "outputs": [
        {
          "output_type": "stream",
          "name": "stdout",
          "text": [
            "Square: 100\n",
            "Cube: 1000\n",
            "Done!\n"
          ]
        }
      ]
    },
    {
      "cell_type": "code",
      "source": [
        "#4. Write a Python program using multithreading where one thread adds numbers to a list, and another thread removes numbers from the list. Implement a mechanism to avoid race conditions usingthreading.Lock.\n",
        "# Ans\n",
        "import threading\n",
        "import time\n",
        "\n",
        "# Shared list\n",
        "shared_list = []\n",
        "\n",
        "# Lock to prevent race conditions\n",
        "list_lock = threading.Lock()\n",
        "\n",
        "# Function to add numbers to the list\n",
        "def add_numbers():\n",
        "    for i in range(10):\n",
        "        time.sleep(0.1)  # Simulate some work\n",
        "        with list_lock:\n",
        "            shared_list.append(i)\n",
        "            print(f\"Added {i}, list: {shared_list}\")\n",
        "\n",
        "# Function to remove numbers from the list\n",
        "def remove_numbers():\n",
        "    for i in range(10):\n",
        "        time.sleep(0.15)  # Simulate some work\n",
        "        with list_lock:\n",
        "            if shared_list:\n",
        "                removed = shared_list.pop(0)\n",
        "                print(f\"Removed {removed}, list: {shared_list}\")\n",
        "\n",
        "# Create threads\n",
        "adder_thread = threading.Thread(target=add_numbers)\n",
        "remover_thread = threading.Thread(target=remove_numbers)\n",
        "\n",
        "# Start threads\n",
        "adder_thread.start()\n",
        "remover_thread.start()\n",
        "\n",
        "# Wait for threads to complete\n",
        "adder_thread.join()\n",
        "remover_thread.join()\n",
        "\n",
        "print(\"Final list:\", shared_list)"
      ],
      "metadata": {
        "colab": {
          "base_uri": "https://localhost:8080/"
        },
        "id": "-m8BqVBVlv1x",
        "outputId": "2b3856fa-cf22-4bb1-de1b-1070fd5ab19d"
      },
      "execution_count": null,
      "outputs": [
        {
          "output_type": "stream",
          "name": "stdout",
          "text": [
            "Added 0, list: [0]\n",
            "Removed 0, list: []\n",
            "Added 1, list: [1]\n",
            "Removed 1, list: []\n",
            "Added 2, list: [2]\n",
            "Added 3, list: [2, 3]\n",
            "Removed 2, list: [3]\n",
            "Added 4, list: [3, 4]\n",
            "Removed 3, list: [4]\n",
            "Added 5, list: [4, 5]\n",
            "Added 6, list: [4, 5, 6]\n",
            "Removed 4, list: [5, 6]\n",
            "Added 7, list: [5, 6, 7]\n",
            "Removed 5, list: [6, 7]\n",
            "Added 8, list: [6, 7, 8]\n",
            "Added 9, list: [6, 7, 8, 9]\n",
            "Removed 6, list: [7, 8, 9]\n",
            "Removed 7, list: [8, 9]\n",
            "Removed 8, list: [9]\n",
            "Removed 9, list: []\n",
            "Final list: []\n"
          ]
        }
      ]
    },
    {
      "cell_type": "code",
      "source": [
        "#5. Describe the methods and tools available in Python for safely sharing data between threads and processes.\n",
        "#Ans.In Python, safely sharing data between threads and processes is crucial to avoid issues like race conditions and ensure data integrity. Here are some methods and tools available for this purpose:\n",
        "\n",
        "#Sharing Data Between Threads\n",
        "#threading.Lock,threading.Event,queue.Queue,\n",
        "\n",
        "#Sharing Data Between Processes\n",
        "#multiprocessing.Queue,multiprocessing.Pipe,multiprocessing.Value and multiprocessing.Array\n",
        "\n",
        "import queue\n",
        "import threading\n",
        "\n",
        "q = queue.Queue()\n",
        "\n",
        "def producer():\n",
        "    q.put('data')\n",
        "\n",
        "def consumer():\n",
        "    data = q.get()\n",
        "    print(data)\n",
        "\n",
        "t1 = threading.Thread(target=producer)\n",
        "t2 = threading.Thread(target=consumer)\n",
        "\n",
        "t1.start()\n",
        "t2.start()\n",
        "\n",
        "t1.join()\n",
        "t2.join()\n"
      ],
      "metadata": {
        "colab": {
          "base_uri": "https://localhost:8080/"
        },
        "id": "Zz7UZr3xsbq-",
        "outputId": "94c39896-c1f7-4799-c2c4-c3f9afcc8ad1"
      },
      "execution_count": null,
      "outputs": [
        {
          "output_type": "stream",
          "name": "stdout",
          "text": [
            "data\n"
          ]
        }
      ]
    },
    {
      "cell_type": "code",
      "source": [
        "#6. Discuss why it’s crucial to handle exceptions in concurrent programs and the techniques available for doing so.\n",
        "#Ans Handling exceptions in concurrent programs is crucial for several reasons:\n",
        "\n",
        "#Stability and Reliability: Unhandled exceptions can cause threads to terminate abruptly, potentially leading to inconsistent states or application crashes. Proper exception handling ensures that the program can recover gracefully from errors and maintain stability.\n",
        "#Resource Management: Concurrent programs often involve shared resources like memory, files, or network connections. Unhandled exceptions can lead to resource leaks or deadlocks, where resources are not released properly, causing the system to become unresponsive.\n",
        "#Error Propagation: In concurrent environments, exceptions in one thread can affect other threads. Without proper handling, these exceptions might go unnoticed, leading to unpredictable behavior and making debugging difficult.\n",
        "\n",
        " #Techniques for Handling Exceptions in Concurrent Programs\n",
        " #Try-Catch Blocks,Future and ExecutorService,Centralized Logging,Retry Mechanism,Exception Propagation.\n",
        "\n"
      ],
      "metadata": {
        "id": "-UbyRZHYsbw-"
      },
      "execution_count": null,
      "outputs": []
    },
    {
      "cell_type": "code",
      "source": [
        "#7. Create a program that uses a thread pool to calculate the factorial of numbers from 1 to 10 concurrently. Use concurrent.futures.ThreadPoolExecutor to manage the threads.\n",
        "#Ans. concurrent.futures.ThreadPoolExecutor to calculate the factorial of numbers from 1 to 10 concurrently\n",
        "\n",
        "import concurrent.futures\n",
        "import math\n",
        "\n",
        "# Function to calculate factorial\n",
        "def factorial(n):\n",
        "    return math.factorial(n)\n",
        "\n",
        "# List of numbers to calculate factorial for\n",
        "numbers = range(1, 11)\n",
        "\n",
        "# Using ThreadPoolExecutor to manage threads\n",
        "with concurrent.futures.ThreadPoolExecutor() as executor:\n",
        "    # Map the factorial function to the numbers\n",
        "    results = list(executor.map(factorial, numbers))\n",
        "\n",
        "# Print the results\n",
        "for number, result in zip(numbers, results):\n",
        "    print(f\"Factorial of {number} is {result}\")\n"
      ],
      "metadata": {
        "colab": {
          "base_uri": "https://localhost:8080/"
        },
        "id": "-vhdLLRpsb29",
        "outputId": "e391d918-6cd4-4983-fdff-f8e9ae60864e"
      },
      "execution_count": null,
      "outputs": [
        {
          "output_type": "stream",
          "name": "stdout",
          "text": [
            "Factorial of 1 is 1\n",
            "Factorial of 2 is 2\n",
            "Factorial of 3 is 6\n",
            "Factorial of 4 is 24\n",
            "Factorial of 5 is 120\n",
            "Factorial of 6 is 720\n",
            "Factorial of 7 is 5040\n",
            "Factorial of 8 is 40320\n",
            "Factorial of 9 is 362880\n",
            "Factorial of 10 is 3628800\n"
          ]
        }
      ]
    },
    {
      "cell_type": "code",
      "source": [
        "#8. Create a Python program that uses multiprocessing.Pool to compute the square of numbers from 1 to 10 in parallel. Measure the time taken to perform this computation using a pool of different sizes (e.g., 2, 4, 8 processes).\n",
        "#Ans. multiprocessing.Pool to compute the square of numbers from 1 to 10 in parallel. It also measures the time taken to perform this computation using different pool sizes.\n",
        "import multiprocessing\n",
        "import time\n",
        "\n",
        "def square(x):\n",
        "    return x * x\n",
        "\n",
        "if __name__ == \"__main__\":\n",
        "    numbers = list(range(1, 11))\n",
        "    pool_sizes = [2, 4, 8]\n",
        "\n",
        "    for size in pool_sizes:\n",
        "        start_time = time.time()\n",
        "        with multiprocessing.Pool(size) as pool:\n",
        "            results = pool.map(square, numbers)\n",
        "        end_time = time.time()\n",
        "        print(f\"Pool size: {size}, Time taken: {end_time - start_time:.4f} seconds, Results: {results}\")\n"
      ],
      "metadata": {
        "colab": {
          "base_uri": "https://localhost:8080/"
        },
        "id": "_QLibGO4lv7H",
        "outputId": "7278127d-d164-4347-f6c0-640340a9acfe"
      },
      "execution_count": null,
      "outputs": [
        {
          "output_type": "stream",
          "name": "stdout",
          "text": [
            "Pool size: 2, Time taken: 0.0526 seconds, Results: [1, 4, 9, 16, 25, 36, 49, 64, 81, 100]\n",
            "Pool size: 4, Time taken: 0.0755 seconds, Results: [1, 4, 9, 16, 25, 36, 49, 64, 81, 100]\n",
            "Pool size: 8, Time taken: 0.1557 seconds, Results: [1, 4, 9, 16, 25, 36, 49, 64, 81, 100]\n"
          ]
        }
      ]
    }
  ]
}