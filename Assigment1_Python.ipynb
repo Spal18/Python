{
  "nbformat": 4,
  "nbformat_minor": 0,
  "metadata": {
    "colab": {
      "provenance": [],
      "include_colab_link": true
    },
    "kernelspec": {
      "name": "python3",
      "display_name": "Python 3"
    },
    "language_info": {
      "name": "python"
    }
  },
  "cells": [
    {
      "cell_type": "markdown",
      "metadata": {
        "id": "view-in-github",
        "colab_type": "text"
      },
      "source": [
        "<a href=\"https://colab.research.google.com/github/Spal18/Python/blob/main/Assigment1_Python.ipynb\" target=\"_parent\"><img src=\"https://colab.research.google.com/assets/colab-badge.svg\" alt=\"Open In Colab\"/></a>"
      ]
    },
    {
      "cell_type": "code",
      "source": [
        "#1.Explain the key features of python that make it a popular choise of programming?\n",
        "#Ans.free and open source,easy to learn,high level language,object oriented language,interpreted language.\n",
        "a=10\n",
        "b=20\n",
        "c=a+b\n",
        "print(c)"
      ],
      "metadata": {
        "colab": {
          "base_uri": "https://localhost:8080/"
        },
        "id": "cDBR-GGT6OgQ",
        "outputId": "8e17f0e6-206b-44e9-8f4e-05c78010afe9"
      },
      "execution_count": null,
      "outputs": [
        {
          "output_type": "stream",
          "name": "stdout",
          "text": [
            "30\n"
          ]
        }
      ]
    },
    {
      "cell_type": "code",
      "source": [
        "#2.Describe the role of predefined keyword in python and provide examples of how they are used in a program.\n",
        "#Ans. Conditional Keywords, Looping Keywords, Function Definition Keywords,Exception Handling Keywords, Logical Operators,Class Definition Keywords,\n",
        "a=True\n",
        "b=False\n",
        "if a==b:\n",
        "    print(\"a is not equal to b\")\n",
        "else:\n",
        "    print(\"a is equal to b\")\n",
        "\n"
      ],
      "metadata": {
        "colab": {
          "base_uri": "https://localhost:8080/"
        },
        "id": "Xtym0D336OjG",
        "outputId": "3b78ba7e-e732-48d8-d739-9ecceb7df7f1"
      },
      "execution_count": null,
      "outputs": [
        {
          "output_type": "stream",
          "name": "stdout",
          "text": [
            "a is equal to b\n"
          ]
        }
      ]
    },
    {
      "cell_type": "code",
      "source": [
        "#3.compare the constrast mutable and immutable object in python with examples.\n",
        "#Ans. Mutable Objects\n",
        "#Mutable objects can be modified after their creation. This means you can change their content without changing their identity. Common examples of mutable objects include lists, dictionaries, and sets.\n",
        "\n",
        "my_list = [1, 2, 3]\n",
        "my_list.append(4)\n",
        "print(my_list)\n",
        "\n",
        "\n",
        "#Immutable Objects\n",
        "#Immutable objects cannot be changed after their creation. Any attempt to modify an immutable object will result in the creation of a new object. Common examples of immutable objects include strings, tuples, and integers.\n",
        "\n",
        "my_string = \"Hello\"\n",
        "new_string = my_string + \" World\"\n",
        "print(new_string)\n"
      ],
      "metadata": {
        "colab": {
          "base_uri": "https://localhost:8080/"
        },
        "id": "583CCJH16Ooh",
        "outputId": "93462605-1767-47cd-e4e0-e263c7099945"
      },
      "execution_count": null,
      "outputs": [
        {
          "output_type": "stream",
          "name": "stdout",
          "text": [
            "[1, 2, 3, 4]\n",
            "Hello World\n"
          ]
        }
      ]
    },
    {
      "cell_type": "code",
      "source": [
        "#4.discuss the different type of operation in python and provide examples of how they are used.\n",
        "# Ans.Addition,Subtraction,Multiplication ,Division,Floor Division,Modulus,Exponentiation.\n",
        "a=10\n",
        "b=20\n",
        "c=a+b\n",
        "print(c)\n",
        "\n",
        "a=15\n",
        "b=10\n",
        "c=a-b\n",
        "print(c)\n",
        "\n",
        "a=10\n",
        "b=2\n",
        "c=a*b\n",
        "print(c)\n",
        "\n",
        "a=15\n",
        "b=2\n",
        "c=a/b\n",
        "print(c)\n",
        "\n",
        "a=15\n",
        "b=2\n",
        "c=a//b\n",
        "print(c)\n",
        "\n",
        "a=15\n",
        "b=2\n",
        "c=a%b\n",
        "print(c)\n",
        "\n",
        "a=2\n",
        "b=3\n",
        "c=a**b\n",
        "print(c)\n"
      ],
      "metadata": {
        "colab": {
          "base_uri": "https://localhost:8080/"
        },
        "id": "niOxC96F6OuG",
        "outputId": "ab43b048-ce54-4cf4-fc01-3865ea06b11e"
      },
      "execution_count": null,
      "outputs": [
        {
          "output_type": "stream",
          "name": "stdout",
          "text": [
            "30\n",
            "5\n",
            "20\n",
            "7.5\n",
            "7\n",
            "1\n",
            "8\n"
          ]
        }
      ]
    },
    {
      "cell_type": "code",
      "source": [
        "#5.Explain the concept of typing casting in python with example.\n",
        "#Ans.Type casting is the process of converting a value from one data type to another.\n",
        "num1 = 10\n",
        "num2 = 3.5\n",
        "result = num1 + num2\n",
        "print(result)\n",
        "\n",
        "#Explicit Type Casting\n",
        "num3 = \"5\"\n",
        "num4 = \"10\"\n",
        "result2 = int(num3) + int(num4)\n",
        "print(result2)"
      ],
      "metadata": {
        "colab": {
          "base_uri": "https://localhost:8080/"
        },
        "id": "tGanruqWLOAs",
        "outputId": "3f96f275-1698-486d-e062-7a5b1775a0d4"
      },
      "execution_count": null,
      "outputs": [
        {
          "output_type": "stream",
          "name": "stdout",
          "text": [
            "13.5\n",
            "15\n"
          ]
        }
      ]
    },
    {
      "cell_type": "code",
      "source": [
        "#6.How do conditional statments work in python? Illustrate with example.\n",
        "#if statement,if-else statement,if-elif-else statement,Nested if statements.\n",
        "a=10\n",
        "b=20\n",
        "if a>b:\n",
        "    print(\"a is greater than b\")\n",
        "elif a<b:\n",
        "    print(\"a is less than b\")\n",
        "else:\n",
        "    print(\"a is equal to b\")\n"
      ],
      "metadata": {
        "colab": {
          "base_uri": "https://localhost:8080/"
        },
        "id": "Tq37BPB1LOGa",
        "outputId": "e28cd008-a157-4f20-c112-3a6dc60b3857"
      },
      "execution_count": null,
      "outputs": [
        {
          "output_type": "stream",
          "name": "stdout",
          "text": [
            "a is less than b\n"
          ]
        }
      ]
    },
    {
      "cell_type": "code",
      "source": [
        "#7.describe the different type of loop in python and their use a cases with examples.\n",
        "#Ans. Iterating over elements in a list or tuple,Iterating over characters in a string,Iterating over keys or values in a dictionary.\n",
        "fruits = [\"apple\", \"banana\", \"cherry\"]\n",
        "for fruit in fruits:\n",
        "    print(fruit)\n",
        "\n",
        "    i = 0\n",
        "while i < 5:\n",
        "    print(i)\n",
        "    i += 1\n",
        "\n",
        "\n",
        "\n",
        "\n",
        "\n"
      ],
      "metadata": {
        "colab": {
          "base_uri": "https://localhost:8080/"
        },
        "id": "MKhexowMLOMe",
        "outputId": "746612f1-84c9-4bc5-cb0b-ae57cc188081"
      },
      "execution_count": null,
      "outputs": [
        {
          "output_type": "stream",
          "name": "stdout",
          "text": [
            "apple\n",
            "banana\n",
            "cherry\n",
            "0\n",
            "1\n",
            "2\n",
            "3\n",
            "4\n"
          ]
        }
      ]
    },
    {
      "cell_type": "code",
      "source": [],
      "metadata": {
        "id": "czPNaw6OLOSE"
      },
      "execution_count": null,
      "outputs": []
    }
  ]
}