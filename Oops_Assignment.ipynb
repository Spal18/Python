{
  "nbformat": 4,
  "nbformat_minor": 0,
  "metadata": {
    "colab": {
      "provenance": [],
      "include_colab_link": true
    },
    "kernelspec": {
      "name": "python3",
      "display_name": "Python 3"
    },
    "language_info": {
      "name": "python"
    }
  },
  "cells": [
    {
      "cell_type": "markdown",
      "metadata": {
        "id": "view-in-github",
        "colab_type": "text"
      },
      "source": [
        "<a href=\"https://colab.research.google.com/github/Spal18/Python/blob/main/Oops_Assignment.ipynb\" target=\"_parent\"><img src=\"https://colab.research.google.com/assets/colab-badge.svg\" alt=\"Open In Colab\"/></a>"
      ]
    },
    {
      "cell_type": "code",
      "execution_count": null,
      "metadata": {
        "id": "Dn6vVq3gLIiN"
      },
      "outputs": [],
      "source": [
        "#1. What are the five key concepts of Object-Oriented Programming (OOP)?\n",
        "\n",
        "#1-Inheritance - refers to process of child class receive the properties of parent class_through base class to a derived class\n",
        "#2-Abstraction - hiding unneeded details and exposing the required\n",
        "#3-Polymorphism - refers to an object taking several forms depending on the method\n",
        "#4-Encapsulation - bundling of data and methods of a class\n",
        "#5-Class - it's used to describe an individual type of data and method\n"
      ]
    },
    {
      "cell_type": "code",
      "source": [
        "#2. Write a Python class for a `Car` with attributes for `make`, `model`, and `year`. Include a method to display the car's information.\n",
        "class Car:\n",
        "    def __init__(self,make,model,year):\n",
        "        self.make=make\n",
        "        self.model=model\n",
        "        self.year=year\n",
        "\n",
        "    #This method is now correctly defined as part of the Car class\n",
        "    def display_car_info(self):\n",
        "        print(f\"Make:{self.make}\")\n",
        "        print(f\"Model:{self.model}\")\n",
        "        print(f\"Year:{self.year}\")\n",
        "\n",
        "car1=Car(\"Mahindra\",\"scorpio\",2024)\n",
        "car1.display_car_info()\n",
        "\n",
        "\n",
        "\n",
        "\n"
      ],
      "metadata": {
        "colab": {
          "base_uri": "https://localhost:8080/"
        },
        "id": "gbvA95UxMp43",
        "outputId": "45d31def-529f-4217-fcda-7f0d263026d8"
      },
      "execution_count": null,
      "outputs": [
        {
          "output_type": "stream",
          "name": "stdout",
          "text": [
            "Make:Mahindra\n",
            "Model:scorpio\n",
            "Year:2024\n"
          ]
        }
      ]
    },
    {
      "source": [
        "#3. Explain the difference between instance methods and class methods. Provide an example of each.\n",
        "#Ans. The IndentationError might be caused by inconsistent indentation within the MyClass class definition. Specifically, the class method is not indented at the same level as the instance method, even though both are methods within the same class. Python relies on indentation to define code blocks, and incorrect indentation can disrupt the structure and logic of your code, leading to this error.\n",
        "\n",
        "class MyClass:\n",
        "    class_variable=10\n",
        "\n",
        "    def __init__(self,instance_variable):\n",
        "        self.instance_variable=instance_variable\n",
        "\n",
        "    def instance_method(self):\n",
        "        print(f\"This is an instance method.Instance variable:{self.instance_variable}\")\n",
        "\n",
        "    @classmethod\n",
        "    def class_method(cls):\n",
        "        print(f\"This is a class method.Class variable:{cls.class_variable}\")\n",
        "\n",
        "obj=MyClass(20)\n",
        "obj.instance_method()\n",
        "MyClass.class_method()"
      ],
      "cell_type": "code",
      "metadata": {
        "colab": {
          "base_uri": "https://localhost:8080/"
        },
        "id": "CPwkleAbrpLK",
        "outputId": "5e2ab956-6221-467b-8db1-88aa0ee2a432"
      },
      "execution_count": null,
      "outputs": [
        {
          "output_type": "stream",
          "name": "stdout",
          "text": [
            "This is an instance method.Instance variable:20\n",
            "This is a class method.Class variable:10\n"
          ]
        }
      ]
    },
    {
      "cell_type": "code",
      "source": [
        "#4. How does Python implement method overloading? Give an example.\n",
        "def add_numbers(a,b,c=None):\n",
        "    if c is not None:\n",
        "        return a+b+c\n",
        "    else:\n",
        "        return a+b\n",
        "\n",
        "result1=add_numbers(1,2)\n",
        "result2=add_numbers(1,2,3)\n",
        "print(result1)\n",
        "print(result2)"
      ],
      "metadata": {
        "colab": {
          "base_uri": "https://localhost:8080/"
        },
        "id": "VxpaWuvuMqBh",
        "outputId": "f9431920-2d0f-4a17-90a0-65ee79633c15"
      },
      "execution_count": null,
      "outputs": [
        {
          "output_type": "stream",
          "name": "stdout",
          "text": [
            "3\n",
            "6\n"
          ]
        }
      ]
    },
    {
      "cell_type": "code",
      "source": [
        "#5. What are the three types of access modifiers in Python? How are they denoted?\n",
        "#Ans.Public,protected and private.\n",
        "class MyClass:\n",
        "    def __init__(self):\n",
        "        self.public_variable=10\n",
        "        self._protected_variable=20\n",
        "        self.__private_variable=30\n",
        "\n",
        "obj=MyClass()\n",
        "print(obj.public_variable)\n",
        "print(obj._protected_variable)\n",
        "print(obj._MyClass__private_variable)\n",
        "\n",
        "\n",
        "\n",
        "\n",
        "\n"
      ],
      "metadata": {
        "colab": {
          "base_uri": "https://localhost:8080/"
        },
        "id": "UnL8zTUEMqKX",
        "outputId": "2912df1e-3b87-435e-d4c2-6d6ec0d7f7f5"
      },
      "execution_count": null,
      "outputs": [
        {
          "output_type": "stream",
          "name": "stdout",
          "text": [
            "10\n",
            "20\n",
            "30\n"
          ]
        }
      ]
    },
    {
      "source": [
        "#6. Describe the five types of inheritance in Python. Provide a simple example of multiple inheritance.\n",
        "#Ans.Single inheritance,multiple inheritance,multilevel inheritance,hierarchical inheritance,hybrid inheritance.\n",
        "class Animal:\n",
        "    def __init__(self,name):\n",
        "        self.name=name\n",
        "\n",
        "    def speak(self):\n",
        "        pass\n",
        "\n",
        "class Dog(Animal):\n",
        "    def speak(self):\n",
        "        return f\"{self.name} says woof!\"\n",
        "\n",
        "class Cat(Animal):\n",
        "    def speak(self):\n",
        "        return f\"{self.name} says meow!\"\n",
        "        print(f\"{self.name} says meow!\")\n",
        "\n",
        "dog=Dog(\"Buddy\")\n",
        "cat=Cat(\"Whiskers\")\n",
        "print(dog.speak())\n",
        "print(cat.speak())\n",
        "\n",
        "\n"
      ],
      "cell_type": "code",
      "metadata": {
        "colab": {
          "base_uri": "https://localhost:8080/"
        },
        "id": "LR8X88vfqPSU",
        "outputId": "a6036437-5f3b-4b71-b4b9-c8bf56597d10"
      },
      "execution_count": null,
      "outputs": [
        {
          "output_type": "stream",
          "name": "stdout",
          "text": [
            "Buddy says woof!\n",
            "Whiskers says meow!\n"
          ]
        }
      ]
    },
    {
      "cell_type": "code",
      "source": [
        "#7. What is the Method Resolution Order (MRO) in Python? How can you retrieve it programmatically?\n",
        "#Ans.The Method Resolution Order (MRO) in Python is the order in which Python looks for a method in a hierarchy of classes.\n",
        "\n",
        "class A:\n",
        "    pass\n",
        "\n",
        "class B(A):\n",
        "    pass\n",
        "\n",
        "class C(A):\n",
        "    pass\n",
        "\n",
        "class D(B,C):\n",
        "    pass\n",
        "\n",
        "print(D.mro())"
      ],
      "metadata": {
        "colab": {
          "base_uri": "https://localhost:8080/"
        },
        "id": "bND5SjV8tUTp",
        "outputId": "9a774ead-cac9-4e9d-88c1-332ed0bc6c42"
      },
      "execution_count": null,
      "outputs": [
        {
          "output_type": "stream",
          "name": "stdout",
          "text": [
            "[<class '__main__.D'>, <class '__main__.B'>, <class '__main__.C'>, <class '__main__.A'>, <class 'object'>]\n"
          ]
        }
      ]
    },
    {
      "cell_type": "code",
      "source": [
        "#8. Create an abstract base class `Shape` with an abstract method `area()`. Then create two subclasses circle and rectangle that implement the area ()method.\n",
        "\n",
        "\n",
        "class Shape(ABC):\n",
        "    @abstractmethod\n",
        "    def area(self):\n",
        "        pass\n",
        "        print(\"This is an abstract method\")\n",
        "\n",
        "class Circle(Shape):\n",
        "    def __init__(self,radius):\n",
        "        self.radius=radius\n",
        "\n",
        "    def area(self):\n",
        "        return 3.14*self.radius*self.radius\n",
        "        print(\"This is a circle\")\n",
        "\n",
        "class Rectangle(Shape):\n",
        "    def __init__(self,length,width):\n",
        "        self.length=length\n",
        "        self.width=width\n",
        "\n",
        "    def area(self):\n",
        "        return self.length*self.width\n",
        "        print(\"This is a rectangle\")\n",
        "\n",
        "circle=Circle(5)\n",
        "rectangle=Rectangle(4,6)\n",
        "print(circle.area())\n",
        "print(rectangle.area())"
      ],
      "metadata": {
        "colab": {
          "base_uri": "https://localhost:8080/"
        },
        "id": "wEnXTgCRtUcL",
        "outputId": "c1538485-09d5-46cf-8967-b481a5bf882a"
      },
      "execution_count": null,
      "outputs": [
        {
          "output_type": "stream",
          "name": "stdout",
          "text": [
            "78.5\n",
            "24\n"
          ]
        }
      ]
    },
    {
      "cell_type": "code",
      "source": [
        "#9. Demonstrate polymorphism by creating a function that can work with different shape objects to calculate and print their areas.\n",
        "def calculate_area(shape):\n",
        "    return shape.area()\n",
        "\n",
        "circle=Circle(5)\n",
        "rectangle=Rectangle(4,6)\n",
        "print(calculate_area(circle))\n",
        "print(calculate_area(rectangle))\n"
      ],
      "metadata": {
        "colab": {
          "base_uri": "https://localhost:8080/"
        },
        "id": "AobnMZEBtUoa",
        "outputId": "74cc26ab-9ea0-4dac-9df9-ccd07ea94b5d"
      },
      "execution_count": null,
      "outputs": [
        {
          "output_type": "stream",
          "name": "stdout",
          "text": [
            "78.5\n",
            "24\n"
          ]
        }
      ]
    },
    {
      "cell_type": "code",
      "source": [
        "#10.Implement encapsulation in a BankAccount class with private attributes for balance and account number.Include method for deposit,withdrawal,and balance inquiry.\n",
        "\n",
        "class BankAccount:\n",
        "\n",
        "    def __init__(self, account_number, initial_balance=0):\n",
        "        self.__account_number = account_number\n",
        "        self.__balance = initial_balance\n",
        "\n",
        "    def deposit(self, amount):\n",
        "        if amount > 0:\n",
        "            self.__balance += amount\n",
        "            print(f\"Deposited: ${amount}\")\n",
        "        else:\n",
        "            print(\"Deposit amount must be positive.\")\n",
        "\n",
        "    def withdraw(self, amount):\n",
        "        if 0 < amount <= self.__balance:\n",
        "            self.__balance -= amount\n",
        "            print(f\"Withdrew: ${amount}\")\n",
        "        else:\n",
        "            print(\"Insufficient balance or invalid amount.\")\n",
        "\n",
        "    def get_balance(self):\n",
        "        return self.__balance\n",
        "\n",
        "    def get_account_number(self):\n",
        "        return self.__account_number\n",
        "\n",
        "# Example usage:\n",
        "account = BankAccount(\"123456789\", 1000)\n",
        "account.deposit(500)\n",
        "account.withdraw(200)\n",
        "print(f\"Account Number: {account.get_account_number()}\")\n",
        "print(f\"Balance: ${account.get_balance()}\")\n"
      ],
      "metadata": {
        "colab": {
          "base_uri": "https://localhost:8080/"
        },
        "id": "x9OfPXC569MB",
        "outputId": "fab71ddf-060b-4544-aa00-fe2304efb23c"
      },
      "execution_count": null,
      "outputs": [
        {
          "output_type": "stream",
          "name": "stdout",
          "text": [
            "Deposited: $500\n",
            "Withdrew: $200\n",
            "Account Number: 123456789\n",
            "Balance: $1300\n"
          ]
        }
      ]
    },
    {
      "cell_type": "code",
      "source": [
        "#11. Write a class that overrides the `__str__` and `__add__` magic methods. What will these methods allow you to do?\n",
        "\n",
        "class Parent():\n",
        "\n",
        "\n",
        "    def __init__(self):\n",
        "        self.value = \"Inside Parent\"\n",
        "\n",
        "    def show(self):\n",
        "        print(self.value)\n",
        "\n",
        "class Child(Parent):\n",
        "\n",
        "\n",
        "    def __init__(self):\n",
        "        super().__init__()\n",
        "        self.value = \"Inside Child\"\n",
        "\n",
        "    def show(self):\n",
        "        print(self.value)\n",
        "\n",
        "obj1 = Parent()\n",
        "obj2 = Child()\n",
        "\n",
        "obj1.show()\n",
        "obj2.show()"
      ],
      "metadata": {
        "colab": {
          "base_uri": "https://localhost:8080/"
        },
        "id": "ggnfG5qe69Op",
        "outputId": "604b4387-6804-455a-9cce-7397ec2883e3"
      },
      "execution_count": null,
      "outputs": [
        {
          "output_type": "stream",
          "name": "stdout",
          "text": [
            "Inside Parent\n",
            "Inside Child\n"
          ]
        }
      ]
    },
    {
      "cell_type": "code",
      "source": [
        "#12. Create a decorator that measures and prints the execution time of a function.\n",
        "def my_decorator(func):\n",
        "\tdef wrapper_function(*args, **kwargs):\n",
        "\t\tprint(\"*\"*10)\n",
        "\t\tfunc(*args, **kwargs)\n",
        "\t\tprint(\"*\"*10)\n",
        "\treturn wrapper_function\n",
        "\n",
        "\n",
        "def say_hello():\n",
        "\tprint(\"Hello Geeks!\")\n",
        "\n",
        "@my_decorator\n",
        "def say_bye():\n",
        "\tprint(\"Bye Geeks!\")\n",
        "\n",
        "\n",
        "say_hello = my_decorator(say_hello)\n",
        "say_hello()\n",
        "say_bye()\n"
      ],
      "metadata": {
        "colab": {
          "base_uri": "https://localhost:8080/"
        },
        "id": "x0nw7-AO69UR",
        "outputId": "e40dff09-6c08-4616-d60b-844c22209e0b"
      },
      "execution_count": null,
      "outputs": [
        {
          "output_type": "stream",
          "name": "stdout",
          "text": [
            "**********\n",
            "Hello Geeks!\n",
            "**********\n",
            "**********\n",
            "Bye Geeks!\n",
            "**********\n"
          ]
        }
      ]
    },
    {
      "cell_type": "code",
      "source": [
        "#13. Explain the concept of the Diamond Problem in multiple inheritance. How does Python resolve it?\n",
        "class A:\n",
        "    def display(self):\n",
        "        print(\"This is class A\")\n",
        "\n",
        "class B(A):\n",
        "    def display(self):\n",
        "        print(\"This is class B\")\n",
        "\n",
        "class C(A):\n",
        "    def display(self):\n",
        "        print(\"This is class C\")\n",
        "\n",
        "class D(B, C):\n",
        "    pass\n",
        "\n",
        "obj = D()\n",
        "obj.display()"
      ],
      "metadata": {
        "colab": {
          "base_uri": "https://localhost:8080/"
        },
        "id": "FCl7ccIH2igV",
        "outputId": "89cc229d-5db9-4600-cef7-a6824d4e970b"
      },
      "execution_count": null,
      "outputs": [
        {
          "output_type": "stream",
          "name": "stdout",
          "text": [
            "This is class B\n"
          ]
        }
      ]
    },
    {
      "cell_type": "code",
      "source": [
        "#14. Write a class method that keeps track of the number of instances created from a class.\n",
        "class MyClass:\n",
        "    # Class variable to keep track of the number of instances\n",
        "    instance_count = 0\n",
        "\n",
        "    def __init__(self, name):\n",
        "        self.name = name\n",
        "        # Increment the class variable each time a new instance is created\n",
        "        MyClass.instance_count += 1\n",
        "\n",
        "    @classmethod\n",
        "    def get_instance_count(cls):\n",
        "        return cls.instance_count\n",
        "\n",
        "# Creating instances of the class\n",
        "obj1 = MyClass(\"Alice\")\n",
        "obj2 = MyClass(\"Bob\")\n",
        "obj3 = MyClass(\"Charlie\")\n",
        "\n",
        "# Accessing the class method to get the number of instances created\n",
        "print(\"Total number of instances created:\", MyClass.get_instance_count())\n",
        "\n"
      ],
      "metadata": {
        "colab": {
          "base_uri": "https://localhost:8080/"
        },
        "id": "vSvKjovv2imN",
        "outputId": "11693fae-6b37-4dd8-ab4a-3cece9fcdf6f"
      },
      "execution_count": null,
      "outputs": [
        {
          "output_type": "stream",
          "name": "stdout",
          "text": [
            "Total number of instances created: 3\n"
          ]
        }
      ]
    },
    {
      "cell_type": "code",
      "source": [
        "#15. Implement a static method in a class that checks if a given year is a leap year.\n",
        "#Ans. Python program to check if the input year is a leap year or not\n",
        "\n",
        "def ISLP(y):\n",
        "  if((y % 400 == 0) or\n",
        "     (y % 100 != 0) and\n",
        "     (y % 4 == 0)):\n",
        "    return 1;\n",
        "  else:\n",
        "    return 0;\n",
        "\n",
        "# Driver code\n",
        "if __name__=='__main__':\n",
        "\n",
        "  year = 2020;\n",
        "  if(ISLP(year)):\n",
        "    print(\"Leap Year\");\n",
        "  else:\n",
        "    print(\"Not a Leap Year\")\n",
        "  print(ISLP(year));\n"
      ],
      "metadata": {
        "id": "ldVb9L4DCuTZ"
      },
      "execution_count": null,
      "outputs": []
    }
  ]
}