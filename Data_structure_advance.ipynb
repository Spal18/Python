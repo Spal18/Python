{
  "nbformat": 4,
  "nbformat_minor": 0,
  "metadata": {
    "colab": {
      "provenance": [],
      "include_colab_link": true
    },
    "kernelspec": {
      "name": "python3",
      "display_name": "Python 3"
    },
    "language_info": {
      "name": "python"
    }
  },
  "cells": [
    {
      "cell_type": "markdown",
      "metadata": {
        "id": "view-in-github",
        "colab_type": "text"
      },
      "source": [
        "<a href=\"https://colab.research.google.com/github/Spal18/Python/blob/main/Data_structure_advance.ipynb\" target=\"_parent\"><img src=\"https://colab.research.google.com/assets/colab-badge.svg\" alt=\"Open In Colab\"/></a>"
      ]
    },
    {
      "cell_type": "code",
      "execution_count": 1,
      "metadata": {
        "colab": {
          "base_uri": "https://localhost:8080/"
        },
        "id": "-1jQt-P1NpvJ",
        "outputId": "0ce3f29c-2978-4e3b-984a-60d45518d339"
      },
      "outputs": [
        {
          "output_type": "stream",
          "name": "stdout",
          "text": [
            "ivS\n"
          ]
        }
      ],
      "source": [
        "#1.write a code to reverse a string?\n",
        "a=\"Shivani\"\n",
        "print(a[-1::-3])"
      ]
    },
    {
      "cell_type": "code",
      "source": [
        "#2.write a code to count the number of vowels in a string?\n",
        "na=\"Honey bunney\"\n",
        "count=0\n",
        "for i in na:\n",
        "    if i in \"aeiouAEIOU\":\n",
        "        count+=1\n",
        "print(count)"
      ],
      "metadata": {
        "colab": {
          "base_uri": "https://localhost:8080/"
        },
        "id": "TkUUeSVuWmFD",
        "outputId": "c96b0918-9023-4fdf-a27e-e15657440455"
      },
      "execution_count": null,
      "outputs": [
        {
          "output_type": "stream",
          "name": "stdout",
          "text": [
            "4\n"
          ]
        }
      ]
    },
    {
      "cell_type": "code",
      "source": [
        "#3.write a code to check if a given string is a palindrome or not?\n",
        "a=\"Gudda\"\n",
        "if a==a[::-1]:\n",
        "    print(\"palindrome\")\n",
        "else:\n",
        "    print(\"not palindrome\")\n",
        "    b=\"HeeH\"\n",
        "if b==b[::-1]:\n",
        "    print(\"palindrome\")\n",
        "else:\n",
        "    print(\"not palindrome\")"
      ],
      "metadata": {
        "colab": {
          "base_uri": "https://localhost:8080/"
        },
        "id": "2THCAuTjWm-6",
        "outputId": "82a8a074-99b0-48e7-8d2e-977f87c1a6ba"
      },
      "execution_count": null,
      "outputs": [
        {
          "output_type": "stream",
          "name": "stdout",
          "text": [
            "not palindrome\n",
            "palindrome\n"
          ]
        }
      ]
    },
    {
      "cell_type": "code",
      "source": [
        "#4.write a code to check if two given strings are anagrams of each other?\n",
        "a=\"light\"\n",
        "b=\"Dark\"\n",
        "if sorted(a)==sorted(b):\n",
        "    print(\"anagram\")\n",
        "else:\n",
        "    print(\"not anagram\")\n",
        "    a=\"eat\"\n",
        "    b=\"tea\"\n",
        "if sorted(a)==sorted(b):\n",
        "    print(\"anagram\")\n",
        "else:\n",
        "    print(\"not anagram\")"
      ],
      "metadata": {
        "colab": {
          "base_uri": "https://localhost:8080/"
        },
        "id": "2QP27RYIWnCF",
        "outputId": "edc135f6-2c9c-45d5-d688-b584b0593a5a"
      },
      "execution_count": null,
      "outputs": [
        {
          "output_type": "stream",
          "name": "stdout",
          "text": [
            "not anagram\n",
            "anagram\n"
          ]
        }
      ]
    },
    {
      "cell_type": "code",
      "source": [
        "#5.write a code to find all the occurrences of given substring within another string?\n",
        "A=\"Deepak is a good boy\"\n",
        "sub=\"o\"\n",
        "for i in range(len(A)):\n",
        "    if A[i]==sub:\n",
        "        print(i)"
      ],
      "metadata": {
        "id": "N45xWmBtWnFS",
        "colab": {
          "base_uri": "https://localhost:8080/"
        },
        "outputId": "cba32794-ae22-4074-ab0f-263839271c8d"
      },
      "execution_count": null,
      "outputs": [
        {
          "output_type": "stream",
          "name": "stdout",
          "text": [
            "13\n",
            "14\n",
            "18\n"
          ]
        }
      ]
    },
    {
      "cell_type": "code",
      "source": [
        "#6.write a code to perform basic string compression using the counts of repeated characters?\n",
        "s=\"aabcccccaaa\"\n",
        "result=\"aa\"\n",
        "count=1\n",
        "for i in range(len(s)-1):\n",
        "    if s[i]==s[i+1]:\n",
        "        count+=1\n",
        "    else:\n",
        "        result+=str(count)\n",
        "        result+=s[i+1]\n",
        "        count=1\n",
        "result+=str(count)\n",
        "print(result)"
      ],
      "metadata": {
        "id": "w4x5-p-Cy07m",
        "colab": {
          "base_uri": "https://localhost:8080/"
        },
        "outputId": "d6e06442-d53a-426c-9bfa-2b7212851d91"
      },
      "execution_count": null,
      "outputs": [
        {
          "output_type": "stream",
          "name": "stdout",
          "text": [
            "aa2b1c5a3\n"
          ]
        }
      ]
    },
    {
      "cell_type": "code",
      "source": [
        "#7.write a code to determine if a string has all unique characters?\n",
        "b=\"Shivani\"\n",
        "for i in b:\n",
        "    if b.count(i)>1:\n",
        "        print(\"not unique\")\n",
        "        break\n",
        "else:\n",
        "    print(\"unique\")"
      ],
      "metadata": {
        "id": "6Hmeu4jRy1Fu",
        "colab": {
          "base_uri": "https://localhost:8080/"
        },
        "outputId": "01108e78-f386-4d8c-f85e-7c907178fd1e"
      },
      "execution_count": null,
      "outputs": [
        {
          "output_type": "stream",
          "name": "stdout",
          "text": [
            "not unique\n"
          ]
        }
      ]
    },
    {
      "cell_type": "code",
      "source": [
        "#8.write a code to convert a given string to uppercase or lowercase?\n",
        "s=\"December\"\n",
        "print(s.upper())\n",
        "print(s.lower())"
      ],
      "metadata": {
        "id": "-iblZCDSy1Iu",
        "colab": {
          "base_uri": "https://localhost:8080/"
        },
        "outputId": "3bcb9a2d-b4af-4391-cb17-076710105f3f"
      },
      "execution_count": null,
      "outputs": [
        {
          "output_type": "stream",
          "name": "stdout",
          "text": [
            "DECEMBER\n",
            "december\n"
          ]
        }
      ]
    },
    {
      "cell_type": "code",
      "source": [
        "#9.write a code to count the number of words in a string?\n",
        "a=\"I am a good boy\"\n",
        "print(len(a.split()))"
      ],
      "metadata": {
        "id": "rEcrhwjyy1Lt",
        "colab": {
          "base_uri": "https://localhost:8080/"
        },
        "outputId": "b5749c99-a2d9-441e-e7a0-5f222a062a99"
      },
      "execution_count": null,
      "outputs": [
        {
          "output_type": "stream",
          "name": "stdout",
          "text": [
            "5\n"
          ]
        }
      ]
    },
    {
      "cell_type": "code",
      "source": [
        "#10.write a code to concatenate two strings without using the + operator?\n",
        "a=\"Deepak\"\n",
        "b=\"Kumar\"\n",
        "print(\"\".join([a,b]))"
      ],
      "metadata": {
        "id": "em0wOgrBy1Of",
        "colab": {
          "base_uri": "https://localhost:8080/"
        },
        "outputId": "f27c0ba6-1f76-462a-811a-023fd8f9c5f7"
      },
      "execution_count": null,
      "outputs": [
        {
          "output_type": "stream",
          "name": "stdout",
          "text": [
            "DeepakKumar\n"
          ]
        }
      ]
    },
    {
      "cell_type": "code",
      "source": [
        "#11.write a code to remove all occurrences of a specific element from a list?\n",
        "a=[1,2,3,4,5,6,7,8,9,10]\n",
        "b=int(input(\"8\"))\n",
        "for i in a:\n",
        "    if i==b:\n",
        "        a.remove(i)\n",
        "print(a)"
      ],
      "metadata": {
        "id": "T7bDOYVcy1Rw",
        "colab": {
          "base_uri": "https://localhost:8080/"
        },
        "outputId": "682da8e3-d4f9-4dc8-980b-a89023fa3f00"
      },
      "execution_count": null,
      "outputs": [
        {
          "output_type": "stream",
          "name": "stdout",
          "text": [
            "88\n",
            "[1, 2, 3, 4, 5, 6, 7, 9, 10]\n"
          ]
        }
      ]
    },
    {
      "cell_type": "code",
      "source": [
        "#12.implement a code to find the second largest number in a given list of integers?\n",
        "a=[1,2,3,4,5,6,7,8,9,10]\n",
        "a.sort()\n",
        "print(a[-2])"
      ],
      "metadata": {
        "id": "t0Z8Sz2dy1U_",
        "colab": {
          "base_uri": "https://localhost:8080/"
        },
        "outputId": "6f646828-32dc-476a-b160-b6492d123efd"
      },
      "execution_count": null,
      "outputs": [
        {
          "output_type": "stream",
          "name": "stdout",
          "text": [
            "9\n"
          ]
        }
      ]
    },
    {
      "cell_type": "code",
      "source": [
        "#13.create a code to count the occurrences of each element in a list and return a dictionary with elements as keys and their count as values?\n",
        "a=[1,2,3,4,5,6,7,8,9,10]\n",
        "b={}\n",
        "for i in a:\n",
        "    b[i]=a.count(i)\n",
        "print(b)"
      ],
      "metadata": {
        "id": "sPazCCz7y1YO",
        "colab": {
          "base_uri": "https://localhost:8080/"
        },
        "outputId": "3a486602-4c36-4ae5-d4c9-30633007440a"
      },
      "execution_count": null,
      "outputs": [
        {
          "output_type": "stream",
          "name": "stdout",
          "text": [
            "{1: 1, 2: 1, 3: 1, 4: 1, 5: 1, 6: 1, 7: 1, 8: 1, 9: 1, 10: 1}\n"
          ]
        }
      ]
    },
    {
      "cell_type": "code",
      "source": [
        "#14.write a code to reversea list in- place without using any built-in reverse function?\n",
        "a=[1,2,3,4,5,6,7,8,9,10]\n",
        "b=[]\n",
        "for i in range(len(a)):\n",
        "    b.insert(0,a[i])\n",
        "print(b)"
      ],
      "metadata": {
        "colab": {
          "base_uri": "https://localhost:8080/"
        },
        "id": "7446WwMsfsg6",
        "outputId": "76f9b9a1-05ae-4037-9296-c578fe5f8d66"
      },
      "execution_count": null,
      "outputs": [
        {
          "output_type": "stream",
          "name": "stdout",
          "text": [
            "[10, 9, 8, 7, 6, 5, 4, 3, 2, 1]\n"
          ]
        }
      ]
    },
    {
      "cell_type": "code",
      "source": [
        "#15.implement a code to find and remove duplicates from a list while preserving the original order of element.\n",
        "a=[1,2,3,4,5,6,7,8,9,10]\n",
        "b=[]\n",
        "for i in a:\n",
        "    if i not in b:\n",
        "        b.append(i)\n",
        "print(b)"
      ],
      "metadata": {
        "colab": {
          "base_uri": "https://localhost:8080/"
        },
        "id": "e0Cc1pFkfsow",
        "outputId": "6c168948-3e45-4651-8434-a00f424300d5"
      },
      "execution_count": null,
      "outputs": [
        {
          "output_type": "stream",
          "name": "stdout",
          "text": [
            "[1, 2, 3, 4, 5, 6, 7, 8, 9, 10]\n"
          ]
        }
      ]
    },
    {
      "cell_type": "code",
      "source": [
        "#16.create a code to check if a given list is sorted (either in ascending or descending order) or not.\n",
        "a=[1,2,3,4,5,6,7,8,9,10]\n",
        "if a==sorted(a) or a==sorted(a,reverse=True):\n",
        "    print(\"sorted\")\n",
        "else:\n",
        "    print(\"not sorted\")\n",
        "    a=[10,9,8,7,6,5,4,3,2,1]\n",
        "if a==sorted(a) or a==sorted(a,reverse=True):\n",
        "    print(\"sorted\")\n",
        "else:\n",
        "    print(\"not sorted\")\n"
      ],
      "metadata": {
        "colab": {
          "base_uri": "https://localhost:8080/"
        },
        "id": "e7NsG16hfsrg",
        "outputId": "4327973b-e8af-456c-fc8b-cddcd2b9eabe"
      },
      "execution_count": null,
      "outputs": [
        {
          "output_type": "stream",
          "name": "stdout",
          "text": [
            "sorted\n",
            "sorted\n"
          ]
        }
      ]
    },
    {
      "cell_type": "code",
      "source": [
        "#17.write a code to merge two sorted lists into a single sorted list.\n",
        "a=[1,2,3,4,5,6,7,8,9,10]\n",
        "b=[10,9,8,7,6,5,4,3,2,1]\n",
        "c=a+b\n",
        "c.sort()\n",
        "print(c)"
      ],
      "metadata": {
        "colab": {
          "base_uri": "https://localhost:8080/"
        },
        "id": "3aIRKqn9fsuZ",
        "outputId": "902acb14-3d42-47ed-f6fa-86fd457848be"
      },
      "execution_count": null,
      "outputs": [
        {
          "output_type": "stream",
          "name": "stdout",
          "text": [
            "[1, 1, 2, 2, 3, 3, 4, 4, 5, 5, 6, 6, 7, 7, 8, 8, 9, 9, 10, 10]\n"
          ]
        }
      ]
    },
    {
      "cell_type": "code",
      "source": [
        "#18.emplement a code to find the intersection of given two lists.\n",
        "a=[1,2,3,4,5,6,7,8,9,10]\n",
        "b=[10,9,8,7,6,5,4,3,2,1]\n",
        "c=[]\n",
        "for i in a:\n",
        "    if i in b:\n",
        "        c.append(i)\n",
        "print(c)\n"
      ],
      "metadata": {
        "colab": {
          "base_uri": "https://localhost:8080/"
        },
        "id": "KNiK0-XRfsxY",
        "outputId": "3d2f0d99-2c6e-45a7-99b2-4629853206ed"
      },
      "execution_count": null,
      "outputs": [
        {
          "output_type": "stream",
          "name": "stdout",
          "text": [
            "[1, 2, 3, 4, 5, 6, 7, 8, 9, 10]\n"
          ]
        }
      ]
    },
    {
      "cell_type": "code",
      "source": [
        "#19.create a code to find the union of two without duplicates.\n",
        "a=[1,2,3,4,5,6,7,8,9,10]\n",
        "b=[10,9,8,7,6,5,4,3,2,1]\n",
        "c=a+b\n",
        "d=[]\n",
        "for i in c:\n",
        "    if i not in d:\n",
        "        d.append(i)\n",
        "print(d)\n"
      ],
      "metadata": {
        "colab": {
          "base_uri": "https://localhost:8080/"
        },
        "id": "D7ZF4wPWfs0K",
        "outputId": "12bad7f2-c3f2-415e-c4c9-a5eaf86b0975"
      },
      "execution_count": null,
      "outputs": [
        {
          "output_type": "stream",
          "name": "stdout",
          "text": [
            "[1, 2, 3, 4, 5, 6, 7, 8, 9, 10]\n"
          ]
        }
      ]
    },
    {
      "cell_type": "code",
      "source": [
        "#20.write a code to shuffle a given list randomly without using any built-in shuffle functions.\n",
        "import random\n",
        "a=[1,2,3,4,5,6,7,8,9,10]\n",
        "random.shuffle(a)\n",
        "print(a)"
      ],
      "metadata": {
        "colab": {
          "base_uri": "https://localhost:8080/"
        },
        "id": "LdoNvMGmfs3S",
        "outputId": "3f72b27f-ecb7-4dbe-b015-1edcb0f55731"
      },
      "execution_count": null,
      "outputs": [
        {
          "output_type": "stream",
          "name": "stdout",
          "text": [
            "[4, 2, 6, 5, 3, 8, 9, 7, 10, 1]\n"
          ]
        }
      ]
    },
    {
      "cell_type": "code",
      "source": [
        "#21.write a code that takes two tuples as inputand returns a new tuple containing element that are common to the both input tuples.\n",
        "a=(1,2,3,4,5,6,7,8,9,10)\n",
        "b=(10,9,8,7,6,5,4,3,2,1)\n",
        "c=a+b\n",
        "d=[]\n",
        "for i in c:\n",
        "    if i not in d:\n",
        "        d.append(i)\n",
        "print(d)\n"
      ],
      "metadata": {
        "colab": {
          "base_uri": "https://localhost:8080/"
        },
        "id": "TyRvb2hJfs6G",
        "outputId": "bd845bbf-1541-4b68-961b-7e78b1e76467"
      },
      "execution_count": null,
      "outputs": [
        {
          "output_type": "stream",
          "name": "stdout",
          "text": [
            "[1, 2, 3, 4, 5, 6, 7, 8, 9, 10]\n"
          ]
        }
      ]
    },
    {
      "cell_type": "code",
      "source": [
        "#22.create a code that prompts the user to enter two set of integers separated by commas. then, print the intersection of these two sets.\n",
        "a=(\"Deepak \")\n",
        "b=(\"Deepak\")\n",
        "a=set(a.split(\",\"))\n",
        "b=set(b.split(\",\"))\n",
        "print(a.intersection(b))\n",
        "\n"
      ],
      "metadata": {
        "colab": {
          "base_uri": "https://localhost:8080/"
        },
        "id": "EtOzg2VnpDD8",
        "outputId": "5d498b2e-0fba-4a4e-8dab-8064b668c89c"
      },
      "execution_count": null,
      "outputs": [
        {
          "output_type": "stream",
          "name": "stdout",
          "text": [
            "set()\n"
          ]
        }
      ]
    },
    {
      "cell_type": "code",
      "source": [
        "#23.write a code to concatenate two tuples. the function should take two tuples as input and return a new tuple containing elements from both input tuples.\n",
        "a=(1,2,3,4,5,6,7,8,9,10)\n",
        "b=(10,9,8,7,6,5,4,3,2,1)\n",
        "print(a+b)"
      ],
      "metadata": {
        "colab": {
          "base_uri": "https://localhost:8080/"
        },
        "id": "mQcGEZN5pDG-",
        "outputId": "a90c6844-cba4-4bcd-c314-9d98cc9b6226"
      },
      "execution_count": null,
      "outputs": [
        {
          "output_type": "stream",
          "name": "stdout",
          "text": [
            "(1, 2, 3, 4, 5, 6, 7, 8, 9, 10, 10, 9, 8, 7, 6, 5, 4, 3, 2, 1)\n"
          ]
        }
      ]
    },
    {
      "cell_type": "code",
      "source": [
        "#24.develop a code that prompts the user to inputs two sets of string .then ,print the element that are present in the first set but not in the second set .\n",
        "a=(\"Eat\")\n",
        "b=(\"Tea\")\n",
        "a=set(a.split(\",\"))\n",
        "b=set(b.split(\",\"))\n",
        "print(a.difference(b))\n",
        "\n",
        "\n"
      ],
      "metadata": {
        "colab": {
          "base_uri": "https://localhost:8080/"
        },
        "id": "Hw-LSDswpDJ0",
        "outputId": "64890dce-897d-47ad-ba0e-ef8ac1b28a2a"
      },
      "execution_count": null,
      "outputs": [
        {
          "output_type": "stream",
          "name": "stdout",
          "text": [
            "{'Eat'}\n"
          ]
        }
      ]
    },
    {
      "cell_type": "code",
      "source": [
        "#25.create a code that takes a tuple and two integers as input. The function should return a new tuple containing elements from the original\n",
        "D=(1,2,3,4,5,6,7,8,9,10)\n",
        "a=int(input(\"1\"))\n",
        "b=int(input(\"5\"))\n",
        "print(D[a:b])\n"
      ],
      "metadata": {
        "id": "XMhJj_IxpDM_",
        "colab": {
          "base_uri": "https://localhost:8080/"
        },
        "outputId": "6aadf232-e066-4e20-bb8f-9b560c1954f4"
      },
      "execution_count": null,
      "outputs": [
        {
          "output_type": "stream",
          "name": "stdout",
          "text": [
            "15\n",
            "51\n",
            "()\n"
          ]
        }
      ]
    },
    {
      "cell_type": "code",
      "source": [
        "#26. write a code that prompts the user to iput two set of characters.Then,print union of these two set.\n",
        "a=(\"Eat\")\n",
        "b=(\"Tea\")\n",
        "a=set(a.split(\",\"))\n",
        "b=set(b.split(\",\"))\n",
        "print(a.union(b))"
      ],
      "metadata": {
        "id": "diW51zBzpDPj",
        "colab": {
          "base_uri": "https://localhost:8080/"
        },
        "outputId": "6d8dc8ec-fa65-45a6-b271-18d9cd5e9ebb"
      },
      "execution_count": null,
      "outputs": [
        {
          "output_type": "stream",
          "name": "stdout",
          "text": [
            "{'Eat', 'Tea'}\n"
          ]
        }
      ]
    },
    {
      "cell_type": "code",
      "source": [
        "#27.Develop a code that takes a tuple of integers as input. The function should return the maximum and minimum value from the tuple useing tuple unpacking.\n",
        "a=(11,12,13,14,15,16,17,18,19,20)\n",
        "print(max(a))\n",
        "print(min(a))"
      ],
      "metadata": {
        "id": "wLdkf0mbpDSp",
        "colab": {
          "base_uri": "https://localhost:8080/"
        },
        "outputId": "585a9bfe-76b8-44bf-dc98-c8f96131c6bd"
      },
      "execution_count": null,
      "outputs": [
        {
          "output_type": "stream",
          "name": "stdout",
          "text": [
            "20\n",
            "11\n"
          ]
        }
      ]
    },
    {
      "cell_type": "code",
      "source": [
        "#28. Create a code that define two set of integers.Then,print the union, intersection, and differenceof these two sets.\n",
        "s1={1,2,3,4,5,6,7,8,9,10}\n",
        "s2={10,9,8,7,6,5,4,3,2,1}\n",
        "print(s1.union(s2))\n",
        "print(s1.intersection(s2))\n",
        "print(s1.difference(s2))\n",
        "\n"
      ],
      "metadata": {
        "id": "t44qQ6jmpDU1",
        "colab": {
          "base_uri": "https://localhost:8080/"
        },
        "outputId": "33aa3a8f-ba42-4bc3-bbf4-3c3aa1f299a8"
      },
      "execution_count": null,
      "outputs": [
        {
          "output_type": "stream",
          "name": "stdout",
          "text": [
            "{1, 2, 3, 4, 5, 6, 7, 8, 9, 10}\n",
            "{1, 2, 3, 4, 5, 6, 7, 8, 9, 10}\n",
            "set()\n"
          ]
        }
      ]
    },
    {
      "cell_type": "code",
      "source": [
        "#29.write a code that take a tuple and an elemnts as input.The function should return the count of occurences of the given element in the tuple.\n",
        "a=(1,2,3,4,5,6,7,8,9,10)\n",
        "b=int(input(\"5\"))\n",
        "print(a.count(b))"
      ],
      "metadata": {
        "id": "ltXB7XK7pDXd",
        "colab": {
          "base_uri": "https://localhost:8080/"
        },
        "outputId": "9fbc5c79-5ba0-4fbe-9e93-d9db5743c664"
      },
      "execution_count": null,
      "outputs": [
        {
          "output_type": "stream",
          "name": "stdout",
          "text": [
            "56\n",
            "1\n"
          ]
        }
      ]
    },
    {
      "cell_type": "code",
      "source": [
        "#30.Develop a code that prompts the user to inputs two sets of strings.Then, print the symmetric difference of these two sets.\n",
        "a=(\"Bright\")\n",
        "b=(\"Dark\")\n",
        "a=set(a.split(\",\"))\n",
        "b=set(b.split(\",\"))\n",
        "print(a.symmetric_difference(b))"
      ],
      "metadata": {
        "id": "3YXYv1mHfs8-",
        "colab": {
          "base_uri": "https://localhost:8080/"
        },
        "outputId": "8f93c9f8-e073-42c0-925d-0a58fccd3f96"
      },
      "execution_count": null,
      "outputs": [
        {
          "output_type": "stream",
          "name": "stdout",
          "text": [
            "{'Dark', 'Bright'}\n"
          ]
        }
      ]
    },
    {
      "cell_type": "code",
      "source": [
        "#31.write a code that take a list of words as input and return a dictionary where the keys are  uniqe words and the values are the frequencies of those words inthe input list.\n",
        "s=\"Gudda\"\n",
        "d={}\n",
        "for i in s:\n",
        "    d[i]=s.count(i)\n",
        "print(d)\n"
      ],
      "metadata": {
        "colab": {
          "base_uri": "https://localhost:8080/"
        },
        "id": "cSGr2dJQx1Ta",
        "outputId": "b1d2aa2e-8067-4218-d132-17657572eaad"
      },
      "execution_count": null,
      "outputs": [
        {
          "output_type": "stream",
          "name": "stdout",
          "text": [
            "{'G': 1, 'u': 1, 'd': 2, 'a': 1}\n"
          ]
        }
      ]
    },
    {
      "cell_type": "code",
      "source": [
        "#32.write a code that take two dictionaries as input the merge them into a single dictionary. if there are common keys, the values should be added together.\n",
        "a={\"Deepak\":1,\"Kumar\":2}\n",
        "b={\"Deepak\":3,\"Kumar\":4}\n",
        "a.update(b)\n",
        "print(a)\n",
        "\n",
        "\n"
      ],
      "metadata": {
        "colab": {
          "base_uri": "https://localhost:8080/"
        },
        "id": "6tVPbFqux1dK",
        "outputId": "a74a2f1b-4c27-4085-e0a6-6822d66aa25a"
      },
      "execution_count": null,
      "outputs": [
        {
          "output_type": "stream",
          "name": "stdout",
          "text": [
            "{'Deepak': 3, 'Kumar': 4}\n"
          ]
        }
      ]
    },
    {
      "cell_type": "code",
      "source": [
        "#33.write a code  to access a value in a nested dictionary.The function should take the dictionary and a list of keys as input ,and return the crossponding value.If any of the keys do not exist in the dictionary , the function should return none.\n",
        "a={\"Deepak\":{\"Kumar\":2}}\n",
        "b=a.get(\"Deepak\")\n",
        "print(b)\n",
        "\n",
        "\n"
      ],
      "metadata": {
        "colab": {
          "base_uri": "https://localhost:8080/"
        },
        "id": "T0FYRV-dx1gK",
        "outputId": "47849867-adc9-4ff1-f5d2-f2e1a4111d3f"
      },
      "execution_count": null,
      "outputs": [
        {
          "output_type": "stream",
          "name": "stdout",
          "text": [
            "{'Kumar': 2}\n"
          ]
        }
      ]
    },
    {
      "cell_type": "code",
      "source": [
        "#34.write a code that takes a dictionary as input and returns a sorted version of it based on the value . you can choose whether to sort in ascending or dessending order.\n",
        "a={\"Deepak\":1,\"Kumar\":2}\n",
        "b=sorted(a.items(),key=lambda x:x[1])\n",
        "print(dict(b))"
      ],
      "metadata": {
        "colab": {
          "base_uri": "https://localhost:8080/"
        },
        "id": "MBBSyOp6x1lu",
        "outputId": "61e27aa5-8192-44e3-b5ae-32d947ffc639"
      },
      "execution_count": null,
      "outputs": [
        {
          "output_type": "stream",
          "name": "stdout",
          "text": [
            "{'Deepak': 1, 'Kumar': 2}\n"
          ]
        }
      ]
    },
    {
      "cell_type": "code",
      "source": [
        "#35.write a code that inverts a dictionary,swapping keys and values.Ensure that the inverted dictionary correctly handles cases where multiple keys have the same value by stroing the keys  as a  list in the inverted dictionary.\n",
        "a={\"Deepak\":1,\"Kumar\":2}\n",
        "b={}\n",
        "for i,j in a.items():\n",
        "    b[j]=i\n",
        "print(b)"
      ],
      "metadata": {
        "id": "w0xUx4zeWnIC",
        "colab": {
          "base_uri": "https://localhost:8080/"
        },
        "outputId": "068e994b-f79a-4f87-9e5f-d9588e6116a6"
      },
      "execution_count": null,
      "outputs": [
        {
          "output_type": "stream",
          "name": "stdout",
          "text": [
            "{1: 'Deepak', 2: 'Kumar'}\n"
          ]
        }
      ]
    }
  ]
}