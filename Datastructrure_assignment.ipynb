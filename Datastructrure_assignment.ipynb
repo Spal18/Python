{
  "nbformat": 4,
  "nbformat_minor": 0,
  "metadata": {
    "colab": {
      "provenance": [],
      "toc_visible": true,
      "authorship_tag": "ABX9TyMFQ1uAjZrJ0OuWIHvXs4pU",
      "include_colab_link": true
    },
    "kernelspec": {
      "name": "python3",
      "display_name": "Python 3"
    },
    "language_info": {
      "name": "python"
    }
  },
  "cells": [
    {
      "cell_type": "markdown",
      "metadata": {
        "id": "view-in-github",
        "colab_type": "text"
      },
      "source": [
        "<a href=\"https://colab.research.google.com/github/Spal18/Python/blob/main/Datastructrure_assignment.ipynb\" target=\"_parent\"><img src=\"https://colab.research.google.com/assets/colab-badge.svg\" alt=\"Open In Colab\"/></a>"
      ]
    },
    {
      "cell_type": "code",
      "execution_count": null,
      "metadata": {
        "id": "Cr0yF80f-iEX"
      },
      "outputs": [],
      "source": [
        "#1. Discuss string slicing and provide examples.\n",
        "\n",
        "#slicing string is used to excess a particular item into provide string\n"
      ]
    },
    {
      "cell_type": "code",
      "source": [
        "A = 'Google'\n",
        "A"
      ],
      "metadata": {
        "id": "QysJm71F7Zkp",
        "colab": {
          "base_uri": "https://localhost:8080/",
          "height": 36
        },
        "outputId": "d11e6117-c71e-455d-f7eb-a9ace050bcd7"
      },
      "execution_count": null,
      "outputs": [
        {
          "output_type": "execute_result",
          "data": {
            "text/plain": [
              "'Google'"
            ],
            "application/vnd.google.colaboratory.intrinsic+json": {
              "type": "string"
            }
          },
          "metadata": {},
          "execution_count": 2
        }
      ]
    },
    {
      "cell_type": "code",
      "source": [
        "#when we want to use a single part of the string\n",
        "A[4]"
      ],
      "metadata": {
        "id": "Cq9uJNR_7WNy",
        "colab": {
          "base_uri": "https://localhost:8080/",
          "height": 36
        },
        "outputId": "16e252f3-c7ab-47bb-9d30-5981a5a67f95"
      },
      "execution_count": null,
      "outputs": [
        {
          "output_type": "execute_result",
          "data": {
            "text/plain": [
              "'l'"
            ],
            "application/vnd.google.colaboratory.intrinsic+json": {
              "type": "string"
            }
          },
          "metadata": {},
          "execution_count": 3
        }
      ]
    },
    {
      "cell_type": "code",
      "source": [
        "A[-2]"
      ],
      "metadata": {
        "colab": {
          "base_uri": "https://localhost:8080/",
          "height": 36
        },
        "id": "WEom2SliKUHT",
        "outputId": "7066a0e1-6f5e-4141-d7d2-4b0f48a8696a"
      },
      "execution_count": null,
      "outputs": [
        {
          "output_type": "execute_result",
          "data": {
            "text/plain": [
              "'l'"
            ],
            "application/vnd.google.colaboratory.intrinsic+json": {
              "type": "string"
            }
          },
          "metadata": {},
          "execution_count": 4
        }
      ]
    },
    {
      "cell_type": "code",
      "source": [
        "String = \"Let's go for Party\"\n",
        "len(String)"
      ],
      "metadata": {
        "colab": {
          "base_uri": "https://localhost:8080/"
        },
        "id": "YKeMmROFKldu",
        "outputId": "3a6de0ec-c998-49b2-d32d-f248a5579973"
      },
      "execution_count": null,
      "outputs": [
        {
          "output_type": "execute_result",
          "data": {
            "text/plain": [
              "18"
            ]
          },
          "metadata": {},
          "execution_count": 15
        }
      ]
    },
    {
      "cell_type": "code",
      "source": [
        "String[0:8]  #working on a particular part of string"
      ],
      "metadata": {
        "colab": {
          "base_uri": "https://localhost:8080/",
          "height": 36
        },
        "id": "q5HHA_bMKwb4",
        "outputId": "0ff5dc79-1105-4339-ae06-549f0e1ebf97"
      },
      "execution_count": null,
      "outputs": [
        {
          "output_type": "execute_result",
          "data": {
            "text/plain": [
              "\"Let's go\""
            ],
            "application/vnd.google.colaboratory.intrinsic+json": {
              "type": "string"
            }
          },
          "metadata": {},
          "execution_count": 7
        }
      ]
    },
    {
      "cell_type": "code",
      "source": [
        "String[0:18:2] #[start:end:step] >> this is slicing"
      ],
      "metadata": {
        "colab": {
          "base_uri": "https://localhost:8080/",
          "height": 36
        },
        "id": "coV2AJ70K8kF",
        "outputId": "e62edd61-0931-4295-9e4d-d9c386f07a38"
      },
      "execution_count": null,
      "outputs": [
        {
          "output_type": "execute_result",
          "data": {
            "text/plain": [
              "'Ltsg o at'"
            ],
            "application/vnd.google.colaboratory.intrinsic+json": {
              "type": "string"
            }
          },
          "metadata": {},
          "execution_count": 16
        }
      ]
    },
    {
      "cell_type": "code",
      "source": [
        "A[::-1] #reverse string"
      ],
      "metadata": {
        "colab": {
          "base_uri": "https://localhost:8080/",
          "height": 36
        },
        "id": "FuflLOPGLqZA",
        "outputId": "7e012252-5671-43af-9971-f48d508fb003"
      },
      "execution_count": null,
      "outputs": [
        {
          "output_type": "execute_result",
          "data": {
            "text/plain": [
              "'elgooG'"
            ],
            "application/vnd.google.colaboratory.intrinsic+json": {
              "type": "string"
            }
          },
          "metadata": {},
          "execution_count": 13
        }
      ]
    },
    {
      "cell_type": "code",
      "source": [
        "A[::2]"
      ],
      "metadata": {
        "colab": {
          "base_uri": "https://localhost:8080/",
          "height": 36
        },
        "id": "9vFCOKu5MeEo",
        "outputId": "15e58bcf-a81b-4fd5-928d-7345fa4643b0"
      },
      "execution_count": null,
      "outputs": [
        {
          "output_type": "execute_result",
          "data": {
            "text/plain": [
              "'Gol'"
            ],
            "application/vnd.google.colaboratory.intrinsic+json": {
              "type": "string"
            }
          },
          "metadata": {},
          "execution_count": 14
        }
      ]
    },
    {
      "cell_type": "code",
      "source": [
        "#2.Explain the key features of lists in Python.\n",
        "\n",
        "#list is a ordered collection of items >> it's mutable, index, count, append, insert, pop, allow duplicate, sort\n",
        "L1 = [1, 2, 3.5, 100, 'run', True, 'comment']\n",
        "L1"
      ],
      "metadata": {
        "colab": {
          "base_uri": "https://localhost:8080/"
        },
        "id": "oWenDJygMsBv",
        "outputId": "f8113d77-807c-4b16-abbf-5deb2526efc1"
      },
      "execution_count": null,
      "outputs": [
        {
          "output_type": "execute_result",
          "data": {
            "text/plain": [
              "[1, 2, 3.5, 100, 'run', True, 'comment']"
            ]
          },
          "metadata": {},
          "execution_count": 21
        }
      ]
    },
    {
      "cell_type": "code",
      "source": [
        "len(L1)"
      ],
      "metadata": {
        "colab": {
          "base_uri": "https://localhost:8080/"
        },
        "id": "vxVSYEvAOBtX",
        "outputId": "232e393f-e52e-498c-cd04-0d385698ca34"
      },
      "execution_count": null,
      "outputs": [
        {
          "output_type": "execute_result",
          "data": {
            "text/plain": [
              "7"
            ]
          },
          "metadata": {},
          "execution_count": 23
        }
      ]
    },
    {
      "cell_type": "code",
      "source": [
        "L1[0:4]"
      ],
      "metadata": {
        "colab": {
          "base_uri": "https://localhost:8080/"
        },
        "id": "6Eg7KLHsPpRg",
        "outputId": "2d82ce7c-d2dc-42f7-e2a6-a85fa80a9b24"
      },
      "execution_count": null,
      "outputs": [
        {
          "output_type": "execute_result",
          "data": {
            "text/plain": [
              "[1, 2, 3.5, 100]"
            ]
          },
          "metadata": {},
          "execution_count": 24
        }
      ]
    },
    {
      "cell_type": "code",
      "source": [
        "L1[-2]"
      ],
      "metadata": {
        "colab": {
          "base_uri": "https://localhost:8080/"
        },
        "id": "yyGu4LwQP2S-",
        "outputId": "2f6a99e6-6366-4bb5-d45e-4fa9d8950a2e"
      },
      "execution_count": null,
      "outputs": [
        {
          "output_type": "execute_result",
          "data": {
            "text/plain": [
              "True"
            ]
          },
          "metadata": {},
          "execution_count": 29
        }
      ]
    },
    {
      "cell_type": "code",
      "source": [
        "Entertainment = ['Hollywood', \"News\", 'Web series']\n",
        "Entertainment.append(\"Bollywood\")\n",
        "Entertainment.append(\"play\")"
      ],
      "metadata": {
        "id": "WMnII_gcP_GU"
      },
      "execution_count": null,
      "outputs": []
    },
    {
      "cell_type": "code",
      "source": [
        "Entertainment"
      ],
      "metadata": {
        "colab": {
          "base_uri": "https://localhost:8080/"
        },
        "id": "itZJcC9rRCde",
        "outputId": "bf3dd79e-2a25-446e-906b-91533b055c0d"
      },
      "execution_count": null,
      "outputs": [
        {
          "output_type": "execute_result",
          "data": {
            "text/plain": [
              "['Hollywood', 'News', 'Web series', 'Bollywood', 'play']"
            ]
          },
          "metadata": {},
          "execution_count": 70
        }
      ]
    },
    {
      "cell_type": "code",
      "source": [
        "Entertainment.insert(2, \"Comic\")"
      ],
      "metadata": {
        "id": "ko_t8AX4SMkd"
      },
      "execution_count": null,
      "outputs": []
    },
    {
      "cell_type": "code",
      "source": [
        "Entertainment"
      ],
      "metadata": {
        "colab": {
          "base_uri": "https://localhost:8080/"
        },
        "id": "flqztLqSSdtP",
        "outputId": "682863dc-9961-4423-ec3d-8ef374f3caf3"
      },
      "execution_count": null,
      "outputs": [
        {
          "output_type": "execute_result",
          "data": {
            "text/plain": [
              "['Hollywood', 'News', 'Comic', 'Web series', 'Bollywood', 'play']"
            ]
          },
          "metadata": {},
          "execution_count": 72
        }
      ]
    },
    {
      "cell_type": "code",
      "source": [
        "L2 = list(range(5))*3"
      ],
      "metadata": {
        "id": "VFdPCE32ShDn"
      },
      "execution_count": null,
      "outputs": []
    },
    {
      "cell_type": "code",
      "source": [
        "L2"
      ],
      "metadata": {
        "colab": {
          "base_uri": "https://localhost:8080/"
        },
        "id": "pXOqXOFFV15L",
        "outputId": "25ad4179-fb38-4165-dbf9-adfe3a856859"
      },
      "execution_count": null,
      "outputs": [
        {
          "output_type": "execute_result",
          "data": {
            "text/plain": [
              "[0, 1, 2, 3, 4, 0, 1, 2, 3, 4, 0, 1, 2, 3, 4]"
            ]
          },
          "metadata": {},
          "execution_count": 80
        }
      ]
    },
    {
      "cell_type": "code",
      "source": [
        "L1 = [1, 2, 3.5, 100, 'run', True, 'comment']\n",
        "L1[1] = \"Apple\""
      ],
      "metadata": {
        "id": "vNPMIw-kWdtZ"
      },
      "execution_count": null,
      "outputs": []
    },
    {
      "cell_type": "code",
      "source": [
        "L1"
      ],
      "metadata": {
        "colab": {
          "base_uri": "https://localhost:8080/"
        },
        "id": "KzBKpbC2XbaY",
        "outputId": "811d3c03-f147-4271-8849-8b8c2992ed5d"
      },
      "execution_count": null,
      "outputs": [
        {
          "output_type": "execute_result",
          "data": {
            "text/plain": [
              "[1, 'Apple', 3.5, 100, 'run', True, 'comment']"
            ]
          },
          "metadata": {},
          "execution_count": 84
        }
      ]
    },
    {
      "cell_type": "code",
      "source": [
        "#3. Describe how to access, modify and delete elements in a list with examples\n",
        "\n",
        "Movies = ['Action', 'Thriller', 'Comedy', 'Mystery', 'Sci-fi', 'Drama']"
      ],
      "metadata": {
        "id": "IciKSrIsXc47"
      },
      "execution_count": null,
      "outputs": []
    },
    {
      "cell_type": "code",
      "source": [
        "Movies"
      ],
      "metadata": {
        "colab": {
          "base_uri": "https://localhost:8080/"
        },
        "id": "B-XunXIMZHhF",
        "outputId": "6e3b1756-f192-4614-a5c2-3956e3e54254"
      },
      "execution_count": null,
      "outputs": [
        {
          "output_type": "execute_result",
          "data": {
            "text/plain": [
              "['Action', 'Thriller', 'Comedy', 'Mystery', 'Sci-fi', 'Drama']"
            ]
          },
          "metadata": {},
          "execution_count": 86
        }
      ]
    },
    {
      "cell_type": "code",
      "source": [
        "Movies[-3]"
      ],
      "metadata": {
        "colab": {
          "base_uri": "https://localhost:8080/",
          "height": 36
        },
        "id": "ftq44wkgZI61",
        "outputId": "ba1e46e7-8e09-4217-9f82-b12faaafa558"
      },
      "execution_count": null,
      "outputs": [
        {
          "output_type": "execute_result",
          "data": {
            "text/plain": [
              "'Mystery'"
            ],
            "application/vnd.google.colaboratory.intrinsic+json": {
              "type": "string"
            }
          },
          "metadata": {},
          "execution_count": 87
        }
      ]
    },
    {
      "cell_type": "code",
      "source": [
        "Movies[0:3]"
      ],
      "metadata": {
        "colab": {
          "base_uri": "https://localhost:8080/"
        },
        "id": "LHopIaz1Z8Z4",
        "outputId": "370518ad-3efa-4a06-d34d-716b050ba9a5"
      },
      "execution_count": null,
      "outputs": [
        {
          "output_type": "execute_result",
          "data": {
            "text/plain": [
              "['Action', 'Thriller', 'Comedy']"
            ]
          },
          "metadata": {},
          "execution_count": 88
        }
      ]
    },
    {
      "cell_type": "code",
      "source": [
        "Movies[1] = 'Crime' #replace an item of list"
      ],
      "metadata": {
        "id": "BuaIYMIyaEI_"
      },
      "execution_count": null,
      "outputs": []
    },
    {
      "cell_type": "code",
      "source": [
        "Movies"
      ],
      "metadata": {
        "colab": {
          "base_uri": "https://localhost:8080/"
        },
        "id": "W9q0i-hBaYH3",
        "outputId": "26ea5ab9-2672-41ac-fd55-cb27e5709c5b"
      },
      "execution_count": null,
      "outputs": [
        {
          "output_type": "execute_result",
          "data": {
            "text/plain": [
              "['Action', 'Crime', 'Comedy', 'Mystery', 'Sci-fi', 'Drama']"
            ]
          },
          "metadata": {},
          "execution_count": 90
        }
      ]
    },
    {
      "cell_type": "code",
      "source": [
        "Movies.append(\"Adventure\") #add a new item in list"
      ],
      "metadata": {
        "id": "if9n6_OvaZzF"
      },
      "execution_count": null,
      "outputs": []
    },
    {
      "cell_type": "code",
      "source": [
        "Movies"
      ],
      "metadata": {
        "colab": {
          "base_uri": "https://localhost:8080/"
        },
        "id": "nciBadKvaqhY",
        "outputId": "079c4491-d0f5-4d14-93f3-44c76d241a07"
      },
      "execution_count": null,
      "outputs": [
        {
          "output_type": "execute_result",
          "data": {
            "text/plain": [
              "['Action', 'Crime', 'Comedy', 'Mystery', 'Sci-fi', 'Drama', 'Adventure']"
            ]
          },
          "metadata": {},
          "execution_count": 92
        }
      ]
    },
    {
      "cell_type": "code",
      "source": [
        "Movies.remove('Drama')  #for remove or delete an item\n",
        "Movies"
      ],
      "metadata": {
        "colab": {
          "base_uri": "https://localhost:8080/"
        },
        "id": "-cBg977VarxC",
        "outputId": "34063a79-f079-4c43-dcb3-f0c2d56865a3"
      },
      "execution_count": null,
      "outputs": [
        {
          "output_type": "execute_result",
          "data": {
            "text/plain": [
              "['Action', 'Crime', 'Comedy', 'Mystery', 'Sci-fi', 'Adventure']"
            ]
          },
          "metadata": {},
          "execution_count": 93
        }
      ]
    },
    {
      "cell_type": "code",
      "source": [
        "#4. Compare and contrast tuples and lists with examples.\n",
        "\n",
        "#list is a ordered collection of elements, mutable, list allow modification, List[],\n",
        "#Also tuple is a collection of elements but it is immutable, tuple does not support item assignment, Tuple(),"
      ],
      "metadata": {
        "id": "jZ2ezIAla13I"
      },
      "execution_count": null,
      "outputs": []
    },
    {
      "cell_type": "code",
      "source": [
        "Numbers = [1,2,3,4,5]\n",
        "Numbers"
      ],
      "metadata": {
        "colab": {
          "base_uri": "https://localhost:8080/"
        },
        "id": "l5m1ZjCpbR4z",
        "outputId": "a0f80348-b66b-4d33-d263-04c4a8e8afec"
      },
      "execution_count": null,
      "outputs": [
        {
          "output_type": "execute_result",
          "data": {
            "text/plain": [
              "[1, 2, 3, 4, 5]"
            ]
          },
          "metadata": {},
          "execution_count": 95
        }
      ]
    },
    {
      "cell_type": "code",
      "source": [
        "Numbers[1] = 8 # Mutable >> list\n",
        "Numbers"
      ],
      "metadata": {
        "colab": {
          "base_uri": "https://localhost:8080/"
        },
        "id": "nB2tBKvPet6Y",
        "outputId": "c174b84c-e8c8-44ee-efef-559ef960c327"
      },
      "execution_count": null,
      "outputs": [
        {
          "output_type": "execute_result",
          "data": {
            "text/plain": [
              "[1, 8, 3, 4, 5]"
            ]
          },
          "metadata": {},
          "execution_count": 96
        }
      ]
    },
    {
      "cell_type": "code",
      "source": [
        "Roll_nums = (1,2,3,4,5)\n",
        "Roll_nums"
      ],
      "metadata": {
        "colab": {
          "base_uri": "https://localhost:8080/"
        },
        "id": "JJGN0iF6e25o",
        "outputId": "277484f8-8b73-4556-bb16-c2fa930fd75b"
      },
      "execution_count": null,
      "outputs": [
        {
          "output_type": "execute_result",
          "data": {
            "text/plain": [
              "(1, 2, 3, 4, 5)"
            ]
          },
          "metadata": {},
          "execution_count": 97
        }
      ]
    },
    {
      "cell_type": "code",
      "source": [
        "Roll_nums[1] = 6  # Immutable >> tuple\n",
        "Roll_nums"
      ],
      "metadata": {
        "colab": {
          "base_uri": "https://localhost:8080/",
          "height": 158
        },
        "id": "cy6rhxkffVyG",
        "outputId": "782f5307-32b7-440d-c798-e7e6c5b66f53"
      },
      "execution_count": null,
      "outputs": [
        {
          "output_type": "error",
          "ename": "TypeError",
          "evalue": "'tuple' object does not support item assignment",
          "traceback": [
            "\u001b[0;31m---------------------------------------------------------------------------\u001b[0m",
            "\u001b[0;31mTypeError\u001b[0m                                 Traceback (most recent call last)",
            "\u001b[0;32m<ipython-input-98-788148404c90>\u001b[0m in \u001b[0;36m<cell line: 1>\u001b[0;34m()\u001b[0m\n\u001b[0;32m----> 1\u001b[0;31m \u001b[0mRoll_nums\u001b[0m\u001b[0;34m[\u001b[0m\u001b[0;36m1\u001b[0m\u001b[0;34m]\u001b[0m \u001b[0;34m=\u001b[0m \u001b[0;36m6\u001b[0m\u001b[0;34m\u001b[0m\u001b[0;34m\u001b[0m\u001b[0m\n\u001b[0m\u001b[1;32m      2\u001b[0m \u001b[0mRoll_nums\u001b[0m\u001b[0;34m\u001b[0m\u001b[0;34m\u001b[0m\u001b[0m\n",
            "\u001b[0;31mTypeError\u001b[0m: 'tuple' object does not support item assignment"
          ]
        }
      ]
    },
    {
      "cell_type": "code",
      "source": [
        "#5. Describe the key features of sets and provide examples of their use\n",
        "\n",
        "#set = {}\n",
        "#Sets are unordered and unique collection of elements\n",
        "#it doesn't alllow duplicate elements\n",
        "#indexing will not work\n",
        "# sets are mutable\n",
        "#also sets have some operations"
      ],
      "metadata": {
        "id": "XHEqngDCfeSy"
      },
      "execution_count": null,
      "outputs": []
    },
    {
      "cell_type": "code",
      "source": [
        "S = {1,1,0,5, 2, 8,0,2, \"set\",\"set\", \"ste\"}\n",
        "S"
      ],
      "metadata": {
        "colab": {
          "base_uri": "https://localhost:8080/"
        },
        "id": "wOW7aI9chO0t",
        "outputId": "ba80af1c-cc32-4383-ac10-779d4cfc6102"
      },
      "execution_count": null,
      "outputs": [
        {
          "output_type": "execute_result",
          "data": {
            "text/plain": [
              "{0, 1, 2, 5, 8, 'set', 'ste'}"
            ]
          },
          "metadata": {},
          "execution_count": 100
        }
      ]
    },
    {
      "cell_type": "code",
      "source": [
        "type(S)"
      ],
      "metadata": {
        "colab": {
          "base_uri": "https://localhost:8080/"
        },
        "id": "Nn4wf-ZvhxYv",
        "outputId": "178bb080-2cb9-44e8-d8cd-248d3b75d651"
      },
      "execution_count": null,
      "outputs": [
        {
          "output_type": "execute_result",
          "data": {
            "text/plain": [
              "set"
            ]
          },
          "metadata": {},
          "execution_count": 102
        }
      ]
    },
    {
      "cell_type": "code",
      "source": [
        "S[1]"
      ],
      "metadata": {
        "colab": {
          "base_uri": "https://localhost:8080/",
          "height": 141
        },
        "id": "kXaEE250h9om",
        "outputId": "1eaa96b6-cdd2-41b4-8889-632711b74c96"
      },
      "execution_count": null,
      "outputs": [
        {
          "output_type": "error",
          "ename": "TypeError",
          "evalue": "'set' object is not subscriptable",
          "traceback": [
            "\u001b[0;31m---------------------------------------------------------------------------\u001b[0m",
            "\u001b[0;31mTypeError\u001b[0m                                 Traceback (most recent call last)",
            "\u001b[0;32m<ipython-input-105-4e06216c2585>\u001b[0m in \u001b[0;36m<cell line: 1>\u001b[0;34m()\u001b[0m\n\u001b[0;32m----> 1\u001b[0;31m \u001b[0mS\u001b[0m\u001b[0;34m[\u001b[0m\u001b[0;36m1\u001b[0m\u001b[0;34m]\u001b[0m\u001b[0;34m\u001b[0m\u001b[0;34m\u001b[0m\u001b[0m\n\u001b[0m",
            "\u001b[0;31mTypeError\u001b[0m: 'set' object is not subscriptable"
          ]
        }
      ]
    },
    {
      "cell_type": "code",
      "source": [
        "S.add(100)\n",
        "S"
      ],
      "metadata": {
        "colab": {
          "base_uri": "https://localhost:8080/"
        },
        "id": "UBOH8kymiK08",
        "outputId": "a60f31f4-d691-4d3c-cf3e-a2664064dc64"
      },
      "execution_count": null,
      "outputs": [
        {
          "output_type": "execute_result",
          "data": {
            "text/plain": [
              "{0, 1, 100, 2, 5, 8, 'set', 'ste'}"
            ]
          },
          "metadata": {},
          "execution_count": 106
        }
      ]
    },
    {
      "cell_type": "code",
      "source": [
        "S.pop()\n",
        "S"
      ],
      "metadata": {
        "colab": {
          "base_uri": "https://localhost:8080/"
        },
        "id": "FZy46svHizdD",
        "outputId": "ad7834bd-ad57-43fd-c475-5d1a7c62d2aa"
      },
      "execution_count": null,
      "outputs": [
        {
          "output_type": "execute_result",
          "data": {
            "text/plain": [
              "{1, 100, 2, 5, 8, 'set', 'ste'}"
            ]
          },
          "metadata": {},
          "execution_count": 107
        }
      ]
    },
    {
      "cell_type": "code",
      "source": [
        "S.remove(\"ste\")  # remove for specific item\n",
        "S"
      ],
      "metadata": {
        "colab": {
          "base_uri": "https://localhost:8080/"
        },
        "id": "_eDS1YODi-Yz",
        "outputId": "0a29e36a-e426-48a4-9d91-f56134f80671"
      },
      "execution_count": null,
      "outputs": [
        {
          "output_type": "execute_result",
          "data": {
            "text/plain": [
              "{1, 100, 2, 5, 8, 'set'}"
            ]
          },
          "metadata": {},
          "execution_count": 108
        }
      ]
    },
    {
      "cell_type": "code",
      "source": [
        "S.update(\"set\")\n",
        "S"
      ],
      "metadata": {
        "colab": {
          "base_uri": "https://localhost:8080/"
        },
        "id": "JchK-kgOjGAM",
        "outputId": "b6f6a0ce-4df1-4ec1-8834-9e637b22b334"
      },
      "execution_count": null,
      "outputs": [
        {
          "output_type": "execute_result",
          "data": {
            "text/plain": [
              "{1, 100, 2, 5, 8, 'e', 's', 'set', 't'}"
            ]
          },
          "metadata": {},
          "execution_count": 109
        }
      ]
    },
    {
      "cell_type": "code",
      "source": [
        "#6. Discuss the use cases of tuples and sets in Python programming\n",
        "\n",
        "#use cases of tuples_where we don't want to modify data like :- employee id's, roll no. in universities and location in latitude or longitude\n",
        "#use cases of sets_ to compare 2 different sets by set operations, to filter duplicate items, and we can easily find an item in set"
      ],
      "metadata": {
        "id": "uRX0BojSjbP-"
      },
      "execution_count": null,
      "outputs": []
    },
    {
      "cell_type": "code",
      "source": [
        "#7. Describe how to add, modify and delete items in a dictionary with examples\n",
        "\n",
        "#Dictionary is a set of key value pair\n",
        "Dic = {\"Emply1\":\"Engineer\", \"Emply2\":\"Teacher\",\"Emply3\":\"Painter\",\"Emply4\":\"Advocate\"}\n",
        "Dic"
      ],
      "metadata": {
        "colab": {
          "base_uri": "https://localhost:8080/"
        },
        "id": "hrKg56xgXfYm",
        "outputId": "43afddd6-9c54-4f84-c1a1-8c55a72bcde3"
      },
      "execution_count": null,
      "outputs": [
        {
          "output_type": "execute_result",
          "data": {
            "text/plain": [
              "{'Emply1': 'Engineer',\n",
              " 'Emply2': 'Teacher',\n",
              " 'Emply3': 'Painter',\n",
              " 'Emply4': 'Advocate'}"
            ]
          },
          "metadata": {},
          "execution_count": 4
        }
      ]
    },
    {
      "cell_type": "code",
      "source": [
        "type(Dic)"
      ],
      "metadata": {
        "colab": {
          "base_uri": "https://localhost:8080/"
        },
        "id": "zPXA84puZqHC",
        "outputId": "09ac052d-7556-4fb9-bb8c-d3e13c863206"
      },
      "execution_count": null,
      "outputs": [
        {
          "output_type": "execute_result",
          "data": {
            "text/plain": [
              "dict"
            ]
          },
          "metadata": {},
          "execution_count": 5
        }
      ]
    },
    {
      "cell_type": "code",
      "source": [
        "Dic[\"Emply2\"]"
      ],
      "metadata": {
        "colab": {
          "base_uri": "https://localhost:8080/",
          "height": 36
        },
        "id": "wHC7C8EnZ8HK",
        "outputId": "7b6740b2-fb00-4d65-9a2c-c53cc7bf1db0"
      },
      "execution_count": null,
      "outputs": [
        {
          "output_type": "execute_result",
          "data": {
            "text/plain": [
              "'Teacher'"
            ],
            "application/vnd.google.colaboratory.intrinsic+json": {
              "type": "string"
            }
          },
          "metadata": {},
          "execution_count": 8
        }
      ]
    },
    {
      "cell_type": "code",
      "source": [
        "Dic[\"Emply4\"]"
      ],
      "metadata": {
        "colab": {
          "base_uri": "https://localhost:8080/",
          "height": 36
        },
        "id": "HjE_vyN7aBDC",
        "outputId": "9e4b3d9a-4efc-4cac-cde9-123271c780d3"
      },
      "execution_count": null,
      "outputs": [
        {
          "output_type": "execute_result",
          "data": {
            "text/plain": [
              "'Advocate'"
            ],
            "application/vnd.google.colaboratory.intrinsic+json": {
              "type": "string"
            }
          },
          "metadata": {},
          "execution_count": 9
        }
      ]
    },
    {
      "cell_type": "code",
      "source": [
        "Dic[\"Emply4\"] = \"Lawyer\"  #for modify a value\n",
        "Dic"
      ],
      "metadata": {
        "colab": {
          "base_uri": "https://localhost:8080/"
        },
        "id": "WE1SSWCHaWLT",
        "outputId": "3be6c618-8675-449e-d648-40cfbd2ff17d"
      },
      "execution_count": null,
      "outputs": [
        {
          "output_type": "execute_result",
          "data": {
            "text/plain": [
              "{'Emply1': 'Engineer',\n",
              " 'Emply2': 'Teacher',\n",
              " 'Emply3': 'Painter',\n",
              " 'Emply4': 'Lawyer'}"
            ]
          },
          "metadata": {},
          "execution_count": 10
        }
      ]
    },
    {
      "cell_type": "code",
      "source": [
        "Dic[\"Emply5\"] = \"Chef\"  #for add a new pair >> or update to add another dict\n",
        "Dic"
      ],
      "metadata": {
        "colab": {
          "base_uri": "https://localhost:8080/"
        },
        "id": "8C1gq9IPaWnW",
        "outputId": "bd7b4f6d-e6f9-4cef-9dfb-93e51e647320"
      },
      "execution_count": null,
      "outputs": [
        {
          "output_type": "execute_result",
          "data": {
            "text/plain": [
              "{'Emply1': 'Engineer',\n",
              " 'Emply2': 'Teacher',\n",
              " 'Emply3': 'Painter',\n",
              " 'Emply4': 'Lawyer',\n",
              " 'Emply5': 'Chef'}"
            ]
          },
          "metadata": {},
          "execution_count": 11
        }
      ]
    },
    {
      "cell_type": "code",
      "source": [
        "del Dic[\"Emply1\"]  #for delete a pair >> or pop can be used\n",
        "Dic"
      ],
      "metadata": {
        "colab": {
          "base_uri": "https://localhost:8080/"
        },
        "id": "6sLp7-EeaWqv",
        "outputId": "a346eff7-d02f-49da-cd76-cd3bafb77f23"
      },
      "execution_count": null,
      "outputs": [
        {
          "output_type": "execute_result",
          "data": {
            "text/plain": [
              "{'Emply2': 'Teacher',\n",
              " 'Emply3': 'Painter',\n",
              " 'Emply4': 'Lawyer',\n",
              " 'Emply5': 'Chef'}"
            ]
          },
          "metadata": {},
          "execution_count": 13
        }
      ]
    },
    {
      "cell_type": "code",
      "source": [
        "Dic.keys()"
      ],
      "metadata": {
        "colab": {
          "base_uri": "https://localhost:8080/"
        },
        "id": "wEI0PZgTbaW9",
        "outputId": "aa6072f4-7de9-4aea-a801-8329747c3a95"
      },
      "execution_count": null,
      "outputs": [
        {
          "output_type": "execute_result",
          "data": {
            "text/plain": [
              "dict_keys(['Emply2', 'Emply3', 'Emply4', 'Emply5'])"
            ]
          },
          "metadata": {},
          "execution_count": 14
        }
      ]
    },
    {
      "cell_type": "code",
      "source": [
        "Dic.values()"
      ],
      "metadata": {
        "colab": {
          "base_uri": "https://localhost:8080/"
        },
        "id": "MK-FYsNrbzSa",
        "outputId": "9f96aefc-a52b-404d-e606-04805e604ef8"
      },
      "execution_count": null,
      "outputs": [
        {
          "output_type": "execute_result",
          "data": {
            "text/plain": [
              "dict_values(['Teacher', 'Painter', 'Lawyer', 'Chef'])"
            ]
          },
          "metadata": {},
          "execution_count": 15
        }
      ]
    },
    {
      "cell_type": "code",
      "source": [
        "Dic123 = Dic.copy()"
      ],
      "metadata": {
        "id": "g7q9EUJlb26I"
      },
      "execution_count": null,
      "outputs": []
    },
    {
      "cell_type": "code",
      "source": [
        "Dic123"
      ],
      "metadata": {
        "colab": {
          "base_uri": "https://localhost:8080/"
        },
        "id": "MjxGDJcUcAGJ",
        "outputId": "009f73a3-f364-4b7f-c3b8-1cec66a57f41"
      },
      "execution_count": null,
      "outputs": [
        {
          "output_type": "execute_result",
          "data": {
            "text/plain": [
              "{'Emply2': 'Teacher',\n",
              " 'Emply3': 'Painter',\n",
              " 'Emply4': 'Lawyer',\n",
              " 'Emply5': 'Chef'}"
            ]
          },
          "metadata": {},
          "execution_count": 19
        }
      ]
    },
    {
      "cell_type": "code",
      "source": [
        "len(Dic123)"
      ],
      "metadata": {
        "colab": {
          "base_uri": "https://localhost:8080/"
        },
        "id": "GK8TPiUEcB1-",
        "outputId": "45b29eb1-d4f5-4b15-b442-ea34b936bd94"
      },
      "execution_count": null,
      "outputs": [
        {
          "output_type": "execute_result",
          "data": {
            "text/plain": [
              "4"
            ]
          },
          "metadata": {},
          "execution_count": 21
        }
      ]
    },
    {
      "cell_type": "code",
      "source": [
        "Dic123.clear()\n",
        "Dic123"
      ],
      "metadata": {
        "colab": {
          "base_uri": "https://localhost:8080/"
        },
        "id": "yY_DSd9DcZd_",
        "outputId": "b8215210-57fe-4110-adf9-a88f2f3342bc"
      },
      "execution_count": null,
      "outputs": [
        {
          "output_type": "execute_result",
          "data": {
            "text/plain": [
              "{}"
            ]
          },
          "metadata": {},
          "execution_count": 24
        }
      ]
    },
    {
      "cell_type": "code",
      "source": [
        "del Dic123\n",
        "Dic123"
      ],
      "metadata": {
        "colab": {
          "base_uri": "https://localhost:8080/",
          "height": 158
        },
        "id": "9Xi_-1aBdZx8",
        "outputId": "d23993ae-820f-4840-f362-3b94295b59d2"
      },
      "execution_count": null,
      "outputs": [
        {
          "output_type": "error",
          "ename": "NameError",
          "evalue": "name 'Dic123' is not defined",
          "traceback": [
            "\u001b[0;31m---------------------------------------------------------------------------\u001b[0m",
            "\u001b[0;31mNameError\u001b[0m                                 Traceback (most recent call last)",
            "\u001b[0;32m<ipython-input-27-e0d93e11758f>\u001b[0m in \u001b[0;36m<cell line: 1>\u001b[0;34m()\u001b[0m\n\u001b[0;32m----> 1\u001b[0;31m \u001b[0;32mdel\u001b[0m \u001b[0mDic123\u001b[0m\u001b[0;34m\u001b[0m\u001b[0;34m\u001b[0m\u001b[0m\n\u001b[0m\u001b[1;32m      2\u001b[0m \u001b[0mDic123\u001b[0m\u001b[0;34m\u001b[0m\u001b[0;34m\u001b[0m\u001b[0m\n",
            "\u001b[0;31mNameError\u001b[0m: name 'Dic123' is not defined"
          ]
        }
      ]
    },
    {
      "cell_type": "code",
      "source": [
        "#8. Discuss the importance of dictionary keys being immutable and provide examples\n",
        "\n",
        "#Immutability is essential for keys because it ensures that the dictionary can efficiently look up values based on their keys.\n",
        "#If a key was mutable, its hash value could change, making it impossible to find the associated value in the dictionary."
      ],
      "metadata": {
        "id": "CTKCO5Endkjj"
      },
      "execution_count": null,
      "outputs": []
    },
    {
      "cell_type": "code",
      "source": [
        "Emply_salaries = {\"Sohan\": 35000, \"Rohan\": 55000, \"Mahesh\":60000, \"Ram\": 72000}\n",
        "Emply_salaries"
      ],
      "metadata": {
        "colab": {
          "base_uri": "https://localhost:8080/"
        },
        "id": "IqwFGb3FdxlY",
        "outputId": "6d2f13b2-ca7d-4d0a-db3e-7a6ee8b83d7c"
      },
      "execution_count": null,
      "outputs": [
        {
          "output_type": "execute_result",
          "data": {
            "text/plain": [
              "{'Sohan': 35000, 'Rohan': 55000, 'Mahesh': 60000, 'Ram': 72000}"
            ]
          },
          "metadata": {},
          "execution_count": 32
        }
      ]
    },
    {
      "cell_type": "code",
      "source": [
        "Emply_salaries[\"Sohan\"] = 40000\n",
        "Emply_salaries"
      ],
      "metadata": {
        "colab": {
          "base_uri": "https://localhost:8080/"
        },
        "id": "CHOAsOsXdx2-",
        "outputId": "94092b65-454f-4dcf-e7b1-a7c00fae6c92"
      },
      "execution_count": null,
      "outputs": [
        {
          "output_type": "execute_result",
          "data": {
            "text/plain": [
              "{'Sohan': 40000, 'Rohan': 55000, 'Mahesh': 60000, 'Ram': 72000}"
            ]
          },
          "metadata": {},
          "execution_count": 33
        }
      ]
    },
    {
      "cell_type": "code",
      "source": [
        "Emply_salaries[40000]\n",
        "Emply_salaries"
      ],
      "metadata": {
        "colab": {
          "base_uri": "https://localhost:8080/",
          "height": 158
        },
        "id": "67GJRBXogAA5",
        "outputId": "7f917f86-cf0e-4c47-c2b7-4d7469ef2ee1"
      },
      "execution_count": null,
      "outputs": [
        {
          "output_type": "error",
          "ename": "KeyError",
          "evalue": "40000",
          "traceback": [
            "\u001b[0;31m---------------------------------------------------------------------------\u001b[0m",
            "\u001b[0;31mKeyError\u001b[0m                                  Traceback (most recent call last)",
            "\u001b[0;32m<ipython-input-37-f38284fca87b>\u001b[0m in \u001b[0;36m<cell line: 1>\u001b[0;34m()\u001b[0m\n\u001b[0;32m----> 1\u001b[0;31m \u001b[0mEmply_salaries\u001b[0m\u001b[0;34m[\u001b[0m\u001b[0;36m40000\u001b[0m\u001b[0;34m]\u001b[0m\u001b[0;34m\u001b[0m\u001b[0;34m\u001b[0m\u001b[0m\n\u001b[0m\u001b[1;32m      2\u001b[0m \u001b[0mEmply_salaries\u001b[0m\u001b[0;34m\u001b[0m\u001b[0;34m\u001b[0m\u001b[0m\n",
            "\u001b[0;31mKeyError\u001b[0m: 40000"
          ]
        }
      ]
    },
    {
      "cell_type": "code",
      "source": [
        "Emply_salaries.keys()"
      ],
      "metadata": {
        "colab": {
          "base_uri": "https://localhost:8080/"
        },
        "id": "pBINL32CgADl",
        "outputId": "2b4ca57c-e847-46ae-da26-4d7e6116738f"
      },
      "execution_count": null,
      "outputs": [
        {
          "output_type": "execute_result",
          "data": {
            "text/plain": [
              "dict_keys(['Sohan', 'Rohan', 'Mahesh', 'Ram', 50000])"
            ]
          },
          "metadata": {},
          "execution_count": 39
        }
      ]
    },
    {
      "cell_type": "code",
      "source": [
        "Emply_salaries.values()"
      ],
      "metadata": {
        "colab": {
          "base_uri": "https://localhost:8080/"
        },
        "id": "CVaTriT6hD0z",
        "outputId": "08674132-9172-4368-a04b-8896803c8180"
      },
      "execution_count": null,
      "outputs": [
        {
          "output_type": "execute_result",
          "data": {
            "text/plain": [
              "dict_values([40000, 55000, 60000, 72000, 'Rohan'])"
            ]
          },
          "metadata": {},
          "execution_count": 42
        }
      ]
    },
    {
      "cell_type": "code",
      "source": [
        "Emply_salaries.keys(\"Sohan\") = \"Mohan\"\n",
        "Emply_salaries"
      ],
      "metadata": {
        "colab": {
          "base_uri": "https://localhost:8080/",
          "height": 106
        },
        "id": "SMRDeVUxhD83",
        "outputId": "6bac2df7-221a-4d86-c1de-7821bceb73ab"
      },
      "execution_count": null,
      "outputs": [
        {
          "output_type": "error",
          "ename": "SyntaxError",
          "evalue": "cannot assign to function call here. Maybe you meant '==' instead of '='? (<ipython-input-43-2445d88b4cb1>, line 1)",
          "traceback": [
            "\u001b[0;36m  File \u001b[0;32m\"<ipython-input-43-2445d88b4cb1>\"\u001b[0;36m, line \u001b[0;32m1\u001b[0m\n\u001b[0;31m    Emply_salaries.keys(\"Sohan\") = \"Mohan\"\u001b[0m\n\u001b[0m    ^\u001b[0m\n\u001b[0;31mSyntaxError\u001b[0m\u001b[0;31m:\u001b[0m cannot assign to function call here. Maybe you meant '==' instead of '='?\n"
          ]
        }
      ]
    },
    {
      "cell_type": "code",
      "source": [
        "Emply_salaries[\"Sohan\"] = \"Mohan\"\n",
        "Emply_salaries"
      ],
      "metadata": {
        "colab": {
          "base_uri": "https://localhost:8080/"
        },
        "id": "en5FY2wihEAL",
        "outputId": "bde97486-53a9-40c5-bf3f-59e8d7890c05"
      },
      "execution_count": null,
      "outputs": [
        {
          "output_type": "execute_result",
          "data": {
            "text/plain": [
              "{'Sohan': 'Mohan',\n",
              " 'Rohan': 55000,\n",
              " 'Mahesh': 60000,\n",
              " 'Ram': 72000,\n",
              " 50000: 'Rohan'}"
            ]
          },
          "metadata": {},
          "execution_count": 45
        }
      ]
    },
    {
      "cell_type": "code",
      "source": [
        "Dic.fromkeys((1,2,3,4),(\"abc\",\"def\",\"ghi\",\"jkl\"))"
      ],
      "metadata": {
        "colab": {
          "base_uri": "https://localhost:8080/"
        },
        "id": "uTrtrdGpiKjJ",
        "outputId": "08e5efe1-cf82-4e28-aab0-fc40240f56c6"
      },
      "execution_count": null,
      "outputs": [
        {
          "output_type": "execute_result",
          "data": {
            "text/plain": [
              "{1: ('abc', 'def', 'ghi', 'jkl'),\n",
              " 2: ('abc', 'def', 'ghi', 'jkl'),\n",
              " 3: ('abc', 'def', 'ghi', 'jkl'),\n",
              " 4: ('abc', 'def', 'ghi', 'jkl')}"
            ]
          },
          "metadata": {},
          "execution_count": 49
        }
      ]
    },
    {
      "cell_type": "code",
      "source": [
        "#from keys\n",
        "Emply_salaries.fromkeys((1, 2, 3), (\"a\", \"b\", \"c\"))"
      ],
      "metadata": {
        "colab": {
          "base_uri": "https://localhost:8080/"
        },
        "id": "ByofpJVUjRAQ",
        "outputId": "55c7f5ea-2202-4a59-b1c1-1d19f7280f29"
      },
      "execution_count": null,
      "outputs": [
        {
          "output_type": "execute_result",
          "data": {
            "text/plain": [
              "{1: ('a', 'b', 'c'), 2: ('a', 'b', 'c'), 3: ('a', 'b', 'c')}"
            ]
          },
          "metadata": {},
          "execution_count": 51
        }
      ]
    }
  ]
}